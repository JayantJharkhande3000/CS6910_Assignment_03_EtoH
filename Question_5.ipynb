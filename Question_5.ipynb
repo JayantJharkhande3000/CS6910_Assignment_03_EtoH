{
  "nbformat": 4,
  "nbformat_minor": 0,
  "metadata": {
    "colab": {
      "name": "FQ5.ipynb",
      "provenance": [],
      "authorship_tag": "ABX9TyMQFaGNv6WbuUPTis5nTw4A",
      "include_colab_link": true
    },
    "kernelspec": {
      "name": "python3",
      "display_name": "Python 3"
    },
    "language_info": {
      "name": "python"
    },
    "accelerator": "GPU",
    "widgets": {
      "application/vnd.jupyter.widget-state+json": {
        "dd40d787ae434c5ebfd987c0d6202f98": {
          "model_module": "@jupyter-widgets/controls",
          "model_name": "VBoxModel",
          "model_module_version": "1.5.0",
          "state": {
            "_dom_classes": [],
            "_model_module": "@jupyter-widgets/controls",
            "_model_module_version": "1.5.0",
            "_model_name": "VBoxModel",
            "_view_count": null,
            "_view_module": "@jupyter-widgets/controls",
            "_view_module_version": "1.5.0",
            "_view_name": "VBoxView",
            "box_style": "",
            "children": [
              "IPY_MODEL_0c28e3e20bd7464c963634ddf0ecf119",
              "IPY_MODEL_8cb66349eb5f4746996bf7e29c6c8bee"
            ],
            "layout": "IPY_MODEL_a0dfe537a6d54defa19fc795a56560d7"
          }
        },
        "0c28e3e20bd7464c963634ddf0ecf119": {
          "model_module": "@jupyter-widgets/controls",
          "model_name": "LabelModel",
          "model_module_version": "1.5.0",
          "state": {
            "_dom_classes": [],
            "_model_module": "@jupyter-widgets/controls",
            "_model_module_version": "1.5.0",
            "_model_name": "LabelModel",
            "_view_count": null,
            "_view_module": "@jupyter-widgets/controls",
            "_view_module_version": "1.5.0",
            "_view_name": "LabelView",
            "description": "",
            "description_tooltip": null,
            "layout": "IPY_MODEL_2dc940aba45d42229c7e99ed323504e1",
            "placeholder": "​",
            "style": "IPY_MODEL_71de2cac5ea3430bb65012c31eee9842",
            "value": "0.008 MB of 0.008 MB uploaded (0.000 MB deduped)\r"
          }
        },
        "8cb66349eb5f4746996bf7e29c6c8bee": {
          "model_module": "@jupyter-widgets/controls",
          "model_name": "FloatProgressModel",
          "model_module_version": "1.5.0",
          "state": {
            "_dom_classes": [],
            "_model_module": "@jupyter-widgets/controls",
            "_model_module_version": "1.5.0",
            "_model_name": "FloatProgressModel",
            "_view_count": null,
            "_view_module": "@jupyter-widgets/controls",
            "_view_module_version": "1.5.0",
            "_view_name": "ProgressView",
            "bar_style": "",
            "description": "",
            "description_tooltip": null,
            "layout": "IPY_MODEL_669e1c3be928487ba1f647cca2896dc0",
            "max": 1,
            "min": 0,
            "orientation": "horizontal",
            "style": "IPY_MODEL_4662be881be04327953d58e6b0bd2a9b",
            "value": 1
          }
        },
        "a0dfe537a6d54defa19fc795a56560d7": {
          "model_module": "@jupyter-widgets/base",
          "model_name": "LayoutModel",
          "model_module_version": "1.2.0",
          "state": {
            "_model_module": "@jupyter-widgets/base",
            "_model_module_version": "1.2.0",
            "_model_name": "LayoutModel",
            "_view_count": null,
            "_view_module": "@jupyter-widgets/base",
            "_view_module_version": "1.2.0",
            "_view_name": "LayoutView",
            "align_content": null,
            "align_items": null,
            "align_self": null,
            "border": null,
            "bottom": null,
            "display": null,
            "flex": null,
            "flex_flow": null,
            "grid_area": null,
            "grid_auto_columns": null,
            "grid_auto_flow": null,
            "grid_auto_rows": null,
            "grid_column": null,
            "grid_gap": null,
            "grid_row": null,
            "grid_template_areas": null,
            "grid_template_columns": null,
            "grid_template_rows": null,
            "height": null,
            "justify_content": null,
            "justify_items": null,
            "left": null,
            "margin": null,
            "max_height": null,
            "max_width": null,
            "min_height": null,
            "min_width": null,
            "object_fit": null,
            "object_position": null,
            "order": null,
            "overflow": null,
            "overflow_x": null,
            "overflow_y": null,
            "padding": null,
            "right": null,
            "top": null,
            "visibility": null,
            "width": null
          }
        },
        "2dc940aba45d42229c7e99ed323504e1": {
          "model_module": "@jupyter-widgets/base",
          "model_name": "LayoutModel",
          "model_module_version": "1.2.0",
          "state": {
            "_model_module": "@jupyter-widgets/base",
            "_model_module_version": "1.2.0",
            "_model_name": "LayoutModel",
            "_view_count": null,
            "_view_module": "@jupyter-widgets/base",
            "_view_module_version": "1.2.0",
            "_view_name": "LayoutView",
            "align_content": null,
            "align_items": null,
            "align_self": null,
            "border": null,
            "bottom": null,
            "display": null,
            "flex": null,
            "flex_flow": null,
            "grid_area": null,
            "grid_auto_columns": null,
            "grid_auto_flow": null,
            "grid_auto_rows": null,
            "grid_column": null,
            "grid_gap": null,
            "grid_row": null,
            "grid_template_areas": null,
            "grid_template_columns": null,
            "grid_template_rows": null,
            "height": null,
            "justify_content": null,
            "justify_items": null,
            "left": null,
            "margin": null,
            "max_height": null,
            "max_width": null,
            "min_height": null,
            "min_width": null,
            "object_fit": null,
            "object_position": null,
            "order": null,
            "overflow": null,
            "overflow_x": null,
            "overflow_y": null,
            "padding": null,
            "right": null,
            "top": null,
            "visibility": null,
            "width": null
          }
        },
        "71de2cac5ea3430bb65012c31eee9842": {
          "model_module": "@jupyter-widgets/controls",
          "model_name": "DescriptionStyleModel",
          "model_module_version": "1.5.0",
          "state": {
            "_model_module": "@jupyter-widgets/controls",
            "_model_module_version": "1.5.0",
            "_model_name": "DescriptionStyleModel",
            "_view_count": null,
            "_view_module": "@jupyter-widgets/base",
            "_view_module_version": "1.2.0",
            "_view_name": "StyleView",
            "description_width": ""
          }
        },
        "669e1c3be928487ba1f647cca2896dc0": {
          "model_module": "@jupyter-widgets/base",
          "model_name": "LayoutModel",
          "model_module_version": "1.2.0",
          "state": {
            "_model_module": "@jupyter-widgets/base",
            "_model_module_version": "1.2.0",
            "_model_name": "LayoutModel",
            "_view_count": null,
            "_view_module": "@jupyter-widgets/base",
            "_view_module_version": "1.2.0",
            "_view_name": "LayoutView",
            "align_content": null,
            "align_items": null,
            "align_self": null,
            "border": null,
            "bottom": null,
            "display": null,
            "flex": null,
            "flex_flow": null,
            "grid_area": null,
            "grid_auto_columns": null,
            "grid_auto_flow": null,
            "grid_auto_rows": null,
            "grid_column": null,
            "grid_gap": null,
            "grid_row": null,
            "grid_template_areas": null,
            "grid_template_columns": null,
            "grid_template_rows": null,
            "height": null,
            "justify_content": null,
            "justify_items": null,
            "left": null,
            "margin": null,
            "max_height": null,
            "max_width": null,
            "min_height": null,
            "min_width": null,
            "object_fit": null,
            "object_position": null,
            "order": null,
            "overflow": null,
            "overflow_x": null,
            "overflow_y": null,
            "padding": null,
            "right": null,
            "top": null,
            "visibility": null,
            "width": null
          }
        },
        "4662be881be04327953d58e6b0bd2a9b": {
          "model_module": "@jupyter-widgets/controls",
          "model_name": "ProgressStyleModel",
          "model_module_version": "1.5.0",
          "state": {
            "_model_module": "@jupyter-widgets/controls",
            "_model_module_version": "1.5.0",
            "_model_name": "ProgressStyleModel",
            "_view_count": null,
            "_view_module": "@jupyter-widgets/base",
            "_view_module_version": "1.2.0",
            "_view_name": "StyleView",
            "bar_color": null,
            "description_width": ""
          }
        },
        "9762ff517342432c90c42661ee20741f": {
          "model_module": "@jupyter-widgets/controls",
          "model_name": "VBoxModel",
          "model_module_version": "1.5.0",
          "state": {
            "_dom_classes": [],
            "_model_module": "@jupyter-widgets/controls",
            "_model_module_version": "1.5.0",
            "_model_name": "VBoxModel",
            "_view_count": null,
            "_view_module": "@jupyter-widgets/controls",
            "_view_module_version": "1.5.0",
            "_view_name": "VBoxView",
            "box_style": "",
            "children": [
              "IPY_MODEL_c0c85e77ecd64fd38abfb7a5041a0a0e",
              "IPY_MODEL_f74e1d518d6e41ae8a34176a0a37900e"
            ],
            "layout": "IPY_MODEL_a169d4264e744402acbb189b6e6f6312"
          }
        },
        "c0c85e77ecd64fd38abfb7a5041a0a0e": {
          "model_module": "@jupyter-widgets/controls",
          "model_name": "LabelModel",
          "model_module_version": "1.5.0",
          "state": {
            "_dom_classes": [],
            "_model_module": "@jupyter-widgets/controls",
            "_model_module_version": "1.5.0",
            "_model_name": "LabelModel",
            "_view_count": null,
            "_view_module": "@jupyter-widgets/controls",
            "_view_module_version": "1.5.0",
            "_view_name": "LabelView",
            "description": "",
            "description_tooltip": null,
            "layout": "IPY_MODEL_29af2b5e3b2548dc8b0369d95c9ee2d1",
            "placeholder": "​",
            "style": "IPY_MODEL_cb5245d365d14964ae8ca2307fd4f62c",
            "value": "0.009 MB of 0.009 MB uploaded (0.000 MB deduped)\r"
          }
        },
        "f74e1d518d6e41ae8a34176a0a37900e": {
          "model_module": "@jupyter-widgets/controls",
          "model_name": "FloatProgressModel",
          "model_module_version": "1.5.0",
          "state": {
            "_dom_classes": [],
            "_model_module": "@jupyter-widgets/controls",
            "_model_module_version": "1.5.0",
            "_model_name": "FloatProgressModel",
            "_view_count": null,
            "_view_module": "@jupyter-widgets/controls",
            "_view_module_version": "1.5.0",
            "_view_name": "ProgressView",
            "bar_style": "",
            "description": "",
            "description_tooltip": null,
            "layout": "IPY_MODEL_756aa799defd457492467e172b6e7a68",
            "max": 1,
            "min": 0,
            "orientation": "horizontal",
            "style": "IPY_MODEL_051b2508da0e4f92ae308b5ec8896320",
            "value": 1
          }
        },
        "a169d4264e744402acbb189b6e6f6312": {
          "model_module": "@jupyter-widgets/base",
          "model_name": "LayoutModel",
          "model_module_version": "1.2.0",
          "state": {
            "_model_module": "@jupyter-widgets/base",
            "_model_module_version": "1.2.0",
            "_model_name": "LayoutModel",
            "_view_count": null,
            "_view_module": "@jupyter-widgets/base",
            "_view_module_version": "1.2.0",
            "_view_name": "LayoutView",
            "align_content": null,
            "align_items": null,
            "align_self": null,
            "border": null,
            "bottom": null,
            "display": null,
            "flex": null,
            "flex_flow": null,
            "grid_area": null,
            "grid_auto_columns": null,
            "grid_auto_flow": null,
            "grid_auto_rows": null,
            "grid_column": null,
            "grid_gap": null,
            "grid_row": null,
            "grid_template_areas": null,
            "grid_template_columns": null,
            "grid_template_rows": null,
            "height": null,
            "justify_content": null,
            "justify_items": null,
            "left": null,
            "margin": null,
            "max_height": null,
            "max_width": null,
            "min_height": null,
            "min_width": null,
            "object_fit": null,
            "object_position": null,
            "order": null,
            "overflow": null,
            "overflow_x": null,
            "overflow_y": null,
            "padding": null,
            "right": null,
            "top": null,
            "visibility": null,
            "width": null
          }
        },
        "29af2b5e3b2548dc8b0369d95c9ee2d1": {
          "model_module": "@jupyter-widgets/base",
          "model_name": "LayoutModel",
          "model_module_version": "1.2.0",
          "state": {
            "_model_module": "@jupyter-widgets/base",
            "_model_module_version": "1.2.0",
            "_model_name": "LayoutModel",
            "_view_count": null,
            "_view_module": "@jupyter-widgets/base",
            "_view_module_version": "1.2.0",
            "_view_name": "LayoutView",
            "align_content": null,
            "align_items": null,
            "align_self": null,
            "border": null,
            "bottom": null,
            "display": null,
            "flex": null,
            "flex_flow": null,
            "grid_area": null,
            "grid_auto_columns": null,
            "grid_auto_flow": null,
            "grid_auto_rows": null,
            "grid_column": null,
            "grid_gap": null,
            "grid_row": null,
            "grid_template_areas": null,
            "grid_template_columns": null,
            "grid_template_rows": null,
            "height": null,
            "justify_content": null,
            "justify_items": null,
            "left": null,
            "margin": null,
            "max_height": null,
            "max_width": null,
            "min_height": null,
            "min_width": null,
            "object_fit": null,
            "object_position": null,
            "order": null,
            "overflow": null,
            "overflow_x": null,
            "overflow_y": null,
            "padding": null,
            "right": null,
            "top": null,
            "visibility": null,
            "width": null
          }
        },
        "cb5245d365d14964ae8ca2307fd4f62c": {
          "model_module": "@jupyter-widgets/controls",
          "model_name": "DescriptionStyleModel",
          "model_module_version": "1.5.0",
          "state": {
            "_model_module": "@jupyter-widgets/controls",
            "_model_module_version": "1.5.0",
            "_model_name": "DescriptionStyleModel",
            "_view_count": null,
            "_view_module": "@jupyter-widgets/base",
            "_view_module_version": "1.2.0",
            "_view_name": "StyleView",
            "description_width": ""
          }
        },
        "756aa799defd457492467e172b6e7a68": {
          "model_module": "@jupyter-widgets/base",
          "model_name": "LayoutModel",
          "model_module_version": "1.2.0",
          "state": {
            "_model_module": "@jupyter-widgets/base",
            "_model_module_version": "1.2.0",
            "_model_name": "LayoutModel",
            "_view_count": null,
            "_view_module": "@jupyter-widgets/base",
            "_view_module_version": "1.2.0",
            "_view_name": "LayoutView",
            "align_content": null,
            "align_items": null,
            "align_self": null,
            "border": null,
            "bottom": null,
            "display": null,
            "flex": null,
            "flex_flow": null,
            "grid_area": null,
            "grid_auto_columns": null,
            "grid_auto_flow": null,
            "grid_auto_rows": null,
            "grid_column": null,
            "grid_gap": null,
            "grid_row": null,
            "grid_template_areas": null,
            "grid_template_columns": null,
            "grid_template_rows": null,
            "height": null,
            "justify_content": null,
            "justify_items": null,
            "left": null,
            "margin": null,
            "max_height": null,
            "max_width": null,
            "min_height": null,
            "min_width": null,
            "object_fit": null,
            "object_position": null,
            "order": null,
            "overflow": null,
            "overflow_x": null,
            "overflow_y": null,
            "padding": null,
            "right": null,
            "top": null,
            "visibility": null,
            "width": null
          }
        },
        "051b2508da0e4f92ae308b5ec8896320": {
          "model_module": "@jupyter-widgets/controls",
          "model_name": "ProgressStyleModel",
          "model_module_version": "1.5.0",
          "state": {
            "_model_module": "@jupyter-widgets/controls",
            "_model_module_version": "1.5.0",
            "_model_name": "ProgressStyleModel",
            "_view_count": null,
            "_view_module": "@jupyter-widgets/base",
            "_view_module_version": "1.2.0",
            "_view_name": "StyleView",
            "bar_color": null,
            "description_width": ""
          }
        },
        "94bae9dae2bc4b4d96e7edb1e525c234": {
          "model_module": "@jupyter-widgets/controls",
          "model_name": "VBoxModel",
          "model_module_version": "1.5.0",
          "state": {
            "_dom_classes": [],
            "_model_module": "@jupyter-widgets/controls",
            "_model_module_version": "1.5.0",
            "_model_name": "VBoxModel",
            "_view_count": null,
            "_view_module": "@jupyter-widgets/controls",
            "_view_module_version": "1.5.0",
            "_view_name": "VBoxView",
            "box_style": "",
            "children": [
              "IPY_MODEL_84f330524cf04b9fb83a64f4b440e02c",
              "IPY_MODEL_5aaf150828d5446da6ddd28c49d9fbcc"
            ],
            "layout": "IPY_MODEL_cf9144731a6e45328321d9c3092a89a6"
          }
        },
        "84f330524cf04b9fb83a64f4b440e02c": {
          "model_module": "@jupyter-widgets/controls",
          "model_name": "LabelModel",
          "model_module_version": "1.5.0",
          "state": {
            "_dom_classes": [],
            "_model_module": "@jupyter-widgets/controls",
            "_model_module_version": "1.5.0",
            "_model_name": "LabelModel",
            "_view_count": null,
            "_view_module": "@jupyter-widgets/controls",
            "_view_module_version": "1.5.0",
            "_view_name": "LabelView",
            "description": "",
            "description_tooltip": null,
            "layout": "IPY_MODEL_8ccf1dc867e14e06b53d9553108d7211",
            "placeholder": "​",
            "style": "IPY_MODEL_e5abfe0c7b254382b41fe7d64da1e8a9",
            "value": "0.008 MB of 0.008 MB uploaded (0.000 MB deduped)\r"
          }
        },
        "5aaf150828d5446da6ddd28c49d9fbcc": {
          "model_module": "@jupyter-widgets/controls",
          "model_name": "FloatProgressModel",
          "model_module_version": "1.5.0",
          "state": {
            "_dom_classes": [],
            "_model_module": "@jupyter-widgets/controls",
            "_model_module_version": "1.5.0",
            "_model_name": "FloatProgressModel",
            "_view_count": null,
            "_view_module": "@jupyter-widgets/controls",
            "_view_module_version": "1.5.0",
            "_view_name": "ProgressView",
            "bar_style": "",
            "description": "",
            "description_tooltip": null,
            "layout": "IPY_MODEL_5b55a8f69296481492c5b2ba609581e6",
            "max": 1,
            "min": 0,
            "orientation": "horizontal",
            "style": "IPY_MODEL_f57e40c3c8784fd59777975e50bd913d",
            "value": 1
          }
        },
        "cf9144731a6e45328321d9c3092a89a6": {
          "model_module": "@jupyter-widgets/base",
          "model_name": "LayoutModel",
          "model_module_version": "1.2.0",
          "state": {
            "_model_module": "@jupyter-widgets/base",
            "_model_module_version": "1.2.0",
            "_model_name": "LayoutModel",
            "_view_count": null,
            "_view_module": "@jupyter-widgets/base",
            "_view_module_version": "1.2.0",
            "_view_name": "LayoutView",
            "align_content": null,
            "align_items": null,
            "align_self": null,
            "border": null,
            "bottom": null,
            "display": null,
            "flex": null,
            "flex_flow": null,
            "grid_area": null,
            "grid_auto_columns": null,
            "grid_auto_flow": null,
            "grid_auto_rows": null,
            "grid_column": null,
            "grid_gap": null,
            "grid_row": null,
            "grid_template_areas": null,
            "grid_template_columns": null,
            "grid_template_rows": null,
            "height": null,
            "justify_content": null,
            "justify_items": null,
            "left": null,
            "margin": null,
            "max_height": null,
            "max_width": null,
            "min_height": null,
            "min_width": null,
            "object_fit": null,
            "object_position": null,
            "order": null,
            "overflow": null,
            "overflow_x": null,
            "overflow_y": null,
            "padding": null,
            "right": null,
            "top": null,
            "visibility": null,
            "width": null
          }
        },
        "8ccf1dc867e14e06b53d9553108d7211": {
          "model_module": "@jupyter-widgets/base",
          "model_name": "LayoutModel",
          "model_module_version": "1.2.0",
          "state": {
            "_model_module": "@jupyter-widgets/base",
            "_model_module_version": "1.2.0",
            "_model_name": "LayoutModel",
            "_view_count": null,
            "_view_module": "@jupyter-widgets/base",
            "_view_module_version": "1.2.0",
            "_view_name": "LayoutView",
            "align_content": null,
            "align_items": null,
            "align_self": null,
            "border": null,
            "bottom": null,
            "display": null,
            "flex": null,
            "flex_flow": null,
            "grid_area": null,
            "grid_auto_columns": null,
            "grid_auto_flow": null,
            "grid_auto_rows": null,
            "grid_column": null,
            "grid_gap": null,
            "grid_row": null,
            "grid_template_areas": null,
            "grid_template_columns": null,
            "grid_template_rows": null,
            "height": null,
            "justify_content": null,
            "justify_items": null,
            "left": null,
            "margin": null,
            "max_height": null,
            "max_width": null,
            "min_height": null,
            "min_width": null,
            "object_fit": null,
            "object_position": null,
            "order": null,
            "overflow": null,
            "overflow_x": null,
            "overflow_y": null,
            "padding": null,
            "right": null,
            "top": null,
            "visibility": null,
            "width": null
          }
        },
        "e5abfe0c7b254382b41fe7d64da1e8a9": {
          "model_module": "@jupyter-widgets/controls",
          "model_name": "DescriptionStyleModel",
          "model_module_version": "1.5.0",
          "state": {
            "_model_module": "@jupyter-widgets/controls",
            "_model_module_version": "1.5.0",
            "_model_name": "DescriptionStyleModel",
            "_view_count": null,
            "_view_module": "@jupyter-widgets/base",
            "_view_module_version": "1.2.0",
            "_view_name": "StyleView",
            "description_width": ""
          }
        },
        "5b55a8f69296481492c5b2ba609581e6": {
          "model_module": "@jupyter-widgets/base",
          "model_name": "LayoutModel",
          "model_module_version": "1.2.0",
          "state": {
            "_model_module": "@jupyter-widgets/base",
            "_model_module_version": "1.2.0",
            "_model_name": "LayoutModel",
            "_view_count": null,
            "_view_module": "@jupyter-widgets/base",
            "_view_module_version": "1.2.0",
            "_view_name": "LayoutView",
            "align_content": null,
            "align_items": null,
            "align_self": null,
            "border": null,
            "bottom": null,
            "display": null,
            "flex": null,
            "flex_flow": null,
            "grid_area": null,
            "grid_auto_columns": null,
            "grid_auto_flow": null,
            "grid_auto_rows": null,
            "grid_column": null,
            "grid_gap": null,
            "grid_row": null,
            "grid_template_areas": null,
            "grid_template_columns": null,
            "grid_template_rows": null,
            "height": null,
            "justify_content": null,
            "justify_items": null,
            "left": null,
            "margin": null,
            "max_height": null,
            "max_width": null,
            "min_height": null,
            "min_width": null,
            "object_fit": null,
            "object_position": null,
            "order": null,
            "overflow": null,
            "overflow_x": null,
            "overflow_y": null,
            "padding": null,
            "right": null,
            "top": null,
            "visibility": null,
            "width": null
          }
        },
        "f57e40c3c8784fd59777975e50bd913d": {
          "model_module": "@jupyter-widgets/controls",
          "model_name": "ProgressStyleModel",
          "model_module_version": "1.5.0",
          "state": {
            "_model_module": "@jupyter-widgets/controls",
            "_model_module_version": "1.5.0",
            "_model_name": "ProgressStyleModel",
            "_view_count": null,
            "_view_module": "@jupyter-widgets/base",
            "_view_module_version": "1.2.0",
            "_view_name": "StyleView",
            "bar_color": null,
            "description_width": ""
          }
        },
        "06bfa3e764ea451ab89ead8e8f7581a3": {
          "model_module": "@jupyter-widgets/controls",
          "model_name": "VBoxModel",
          "model_module_version": "1.5.0",
          "state": {
            "_dom_classes": [],
            "_model_module": "@jupyter-widgets/controls",
            "_model_module_version": "1.5.0",
            "_model_name": "VBoxModel",
            "_view_count": null,
            "_view_module": "@jupyter-widgets/controls",
            "_view_module_version": "1.5.0",
            "_view_name": "VBoxView",
            "box_style": "",
            "children": [
              "IPY_MODEL_2b90a4abed8c45588dab707452e76cd8",
              "IPY_MODEL_71b07a8f64fc4a708fbcc8976f7c0797"
            ],
            "layout": "IPY_MODEL_63072aa7ae244f58833f7617cb742d5b"
          }
        },
        "2b90a4abed8c45588dab707452e76cd8": {
          "model_module": "@jupyter-widgets/controls",
          "model_name": "LabelModel",
          "model_module_version": "1.5.0",
          "state": {
            "_dom_classes": [],
            "_model_module": "@jupyter-widgets/controls",
            "_model_module_version": "1.5.0",
            "_model_name": "LabelModel",
            "_view_count": null,
            "_view_module": "@jupyter-widgets/controls",
            "_view_module_version": "1.5.0",
            "_view_name": "LabelView",
            "description": "",
            "description_tooltip": null,
            "layout": "IPY_MODEL_e791d637bed841c3be1f32621f9eaee6",
            "placeholder": "​",
            "style": "IPY_MODEL_42bf5993c2904ea0b6a4e7f6894e30fe",
            "value": "0.008 MB of 0.008 MB uploaded (0.000 MB deduped)\r"
          }
        },
        "71b07a8f64fc4a708fbcc8976f7c0797": {
          "model_module": "@jupyter-widgets/controls",
          "model_name": "FloatProgressModel",
          "model_module_version": "1.5.0",
          "state": {
            "_dom_classes": [],
            "_model_module": "@jupyter-widgets/controls",
            "_model_module_version": "1.5.0",
            "_model_name": "FloatProgressModel",
            "_view_count": null,
            "_view_module": "@jupyter-widgets/controls",
            "_view_module_version": "1.5.0",
            "_view_name": "ProgressView",
            "bar_style": "",
            "description": "",
            "description_tooltip": null,
            "layout": "IPY_MODEL_96fe51eb82fa4c2cb0558334f437c220",
            "max": 1,
            "min": 0,
            "orientation": "horizontal",
            "style": "IPY_MODEL_2f8a6c10a60044d2af1d455ed222eb4f",
            "value": 1
          }
        },
        "63072aa7ae244f58833f7617cb742d5b": {
          "model_module": "@jupyter-widgets/base",
          "model_name": "LayoutModel",
          "model_module_version": "1.2.0",
          "state": {
            "_model_module": "@jupyter-widgets/base",
            "_model_module_version": "1.2.0",
            "_model_name": "LayoutModel",
            "_view_count": null,
            "_view_module": "@jupyter-widgets/base",
            "_view_module_version": "1.2.0",
            "_view_name": "LayoutView",
            "align_content": null,
            "align_items": null,
            "align_self": null,
            "border": null,
            "bottom": null,
            "display": null,
            "flex": null,
            "flex_flow": null,
            "grid_area": null,
            "grid_auto_columns": null,
            "grid_auto_flow": null,
            "grid_auto_rows": null,
            "grid_column": null,
            "grid_gap": null,
            "grid_row": null,
            "grid_template_areas": null,
            "grid_template_columns": null,
            "grid_template_rows": null,
            "height": null,
            "justify_content": null,
            "justify_items": null,
            "left": null,
            "margin": null,
            "max_height": null,
            "max_width": null,
            "min_height": null,
            "min_width": null,
            "object_fit": null,
            "object_position": null,
            "order": null,
            "overflow": null,
            "overflow_x": null,
            "overflow_y": null,
            "padding": null,
            "right": null,
            "top": null,
            "visibility": null,
            "width": null
          }
        },
        "e791d637bed841c3be1f32621f9eaee6": {
          "model_module": "@jupyter-widgets/base",
          "model_name": "LayoutModel",
          "model_module_version": "1.2.0",
          "state": {
            "_model_module": "@jupyter-widgets/base",
            "_model_module_version": "1.2.0",
            "_model_name": "LayoutModel",
            "_view_count": null,
            "_view_module": "@jupyter-widgets/base",
            "_view_module_version": "1.2.0",
            "_view_name": "LayoutView",
            "align_content": null,
            "align_items": null,
            "align_self": null,
            "border": null,
            "bottom": null,
            "display": null,
            "flex": null,
            "flex_flow": null,
            "grid_area": null,
            "grid_auto_columns": null,
            "grid_auto_flow": null,
            "grid_auto_rows": null,
            "grid_column": null,
            "grid_gap": null,
            "grid_row": null,
            "grid_template_areas": null,
            "grid_template_columns": null,
            "grid_template_rows": null,
            "height": null,
            "justify_content": null,
            "justify_items": null,
            "left": null,
            "margin": null,
            "max_height": null,
            "max_width": null,
            "min_height": null,
            "min_width": null,
            "object_fit": null,
            "object_position": null,
            "order": null,
            "overflow": null,
            "overflow_x": null,
            "overflow_y": null,
            "padding": null,
            "right": null,
            "top": null,
            "visibility": null,
            "width": null
          }
        },
        "42bf5993c2904ea0b6a4e7f6894e30fe": {
          "model_module": "@jupyter-widgets/controls",
          "model_name": "DescriptionStyleModel",
          "model_module_version": "1.5.0",
          "state": {
            "_model_module": "@jupyter-widgets/controls",
            "_model_module_version": "1.5.0",
            "_model_name": "DescriptionStyleModel",
            "_view_count": null,
            "_view_module": "@jupyter-widgets/base",
            "_view_module_version": "1.2.0",
            "_view_name": "StyleView",
            "description_width": ""
          }
        },
        "96fe51eb82fa4c2cb0558334f437c220": {
          "model_module": "@jupyter-widgets/base",
          "model_name": "LayoutModel",
          "model_module_version": "1.2.0",
          "state": {
            "_model_module": "@jupyter-widgets/base",
            "_model_module_version": "1.2.0",
            "_model_name": "LayoutModel",
            "_view_count": null,
            "_view_module": "@jupyter-widgets/base",
            "_view_module_version": "1.2.0",
            "_view_name": "LayoutView",
            "align_content": null,
            "align_items": null,
            "align_self": null,
            "border": null,
            "bottom": null,
            "display": null,
            "flex": null,
            "flex_flow": null,
            "grid_area": null,
            "grid_auto_columns": null,
            "grid_auto_flow": null,
            "grid_auto_rows": null,
            "grid_column": null,
            "grid_gap": null,
            "grid_row": null,
            "grid_template_areas": null,
            "grid_template_columns": null,
            "grid_template_rows": null,
            "height": null,
            "justify_content": null,
            "justify_items": null,
            "left": null,
            "margin": null,
            "max_height": null,
            "max_width": null,
            "min_height": null,
            "min_width": null,
            "object_fit": null,
            "object_position": null,
            "order": null,
            "overflow": null,
            "overflow_x": null,
            "overflow_y": null,
            "padding": null,
            "right": null,
            "top": null,
            "visibility": null,
            "width": null
          }
        },
        "2f8a6c10a60044d2af1d455ed222eb4f": {
          "model_module": "@jupyter-widgets/controls",
          "model_name": "ProgressStyleModel",
          "model_module_version": "1.5.0",
          "state": {
            "_model_module": "@jupyter-widgets/controls",
            "_model_module_version": "1.5.0",
            "_model_name": "ProgressStyleModel",
            "_view_count": null,
            "_view_module": "@jupyter-widgets/base",
            "_view_module_version": "1.2.0",
            "_view_name": "StyleView",
            "bar_color": null,
            "description_width": ""
          }
        },
        "4f389a51c5d84ad9a0c5d76bde20023a": {
          "model_module": "@jupyter-widgets/controls",
          "model_name": "VBoxModel",
          "model_module_version": "1.5.0",
          "state": {
            "_dom_classes": [],
            "_model_module": "@jupyter-widgets/controls",
            "_model_module_version": "1.5.0",
            "_model_name": "VBoxModel",
            "_view_count": null,
            "_view_module": "@jupyter-widgets/controls",
            "_view_module_version": "1.5.0",
            "_view_name": "VBoxView",
            "box_style": "",
            "children": [
              "IPY_MODEL_a277fc9abc434ac69ca611aa28893e90",
              "IPY_MODEL_a831a9ad175a43ffbd8ef37eb5f3061c"
            ],
            "layout": "IPY_MODEL_0c729c97b2be482791636523950ab8d2"
          }
        },
        "a277fc9abc434ac69ca611aa28893e90": {
          "model_module": "@jupyter-widgets/controls",
          "model_name": "LabelModel",
          "model_module_version": "1.5.0",
          "state": {
            "_dom_classes": [],
            "_model_module": "@jupyter-widgets/controls",
            "_model_module_version": "1.5.0",
            "_model_name": "LabelModel",
            "_view_count": null,
            "_view_module": "@jupyter-widgets/controls",
            "_view_module_version": "1.5.0",
            "_view_name": "LabelView",
            "description": "",
            "description_tooltip": null,
            "layout": "IPY_MODEL_4b279b85228047308164057d30ffe04b",
            "placeholder": "​",
            "style": "IPY_MODEL_2aae7651257f45bca658ae1de29ef9af",
            "value": "0.008 MB of 0.008 MB uploaded (0.000 MB deduped)\r"
          }
        },
        "a831a9ad175a43ffbd8ef37eb5f3061c": {
          "model_module": "@jupyter-widgets/controls",
          "model_name": "FloatProgressModel",
          "model_module_version": "1.5.0",
          "state": {
            "_dom_classes": [],
            "_model_module": "@jupyter-widgets/controls",
            "_model_module_version": "1.5.0",
            "_model_name": "FloatProgressModel",
            "_view_count": null,
            "_view_module": "@jupyter-widgets/controls",
            "_view_module_version": "1.5.0",
            "_view_name": "ProgressView",
            "bar_style": "",
            "description": "",
            "description_tooltip": null,
            "layout": "IPY_MODEL_68280b9bed844f0195fdfd1f0efd3938",
            "max": 1,
            "min": 0,
            "orientation": "horizontal",
            "style": "IPY_MODEL_e0904b753b48444488261e0d04d02fc3",
            "value": 1
          }
        },
        "0c729c97b2be482791636523950ab8d2": {
          "model_module": "@jupyter-widgets/base",
          "model_name": "LayoutModel",
          "model_module_version": "1.2.0",
          "state": {
            "_model_module": "@jupyter-widgets/base",
            "_model_module_version": "1.2.0",
            "_model_name": "LayoutModel",
            "_view_count": null,
            "_view_module": "@jupyter-widgets/base",
            "_view_module_version": "1.2.0",
            "_view_name": "LayoutView",
            "align_content": null,
            "align_items": null,
            "align_self": null,
            "border": null,
            "bottom": null,
            "display": null,
            "flex": null,
            "flex_flow": null,
            "grid_area": null,
            "grid_auto_columns": null,
            "grid_auto_flow": null,
            "grid_auto_rows": null,
            "grid_column": null,
            "grid_gap": null,
            "grid_row": null,
            "grid_template_areas": null,
            "grid_template_columns": null,
            "grid_template_rows": null,
            "height": null,
            "justify_content": null,
            "justify_items": null,
            "left": null,
            "margin": null,
            "max_height": null,
            "max_width": null,
            "min_height": null,
            "min_width": null,
            "object_fit": null,
            "object_position": null,
            "order": null,
            "overflow": null,
            "overflow_x": null,
            "overflow_y": null,
            "padding": null,
            "right": null,
            "top": null,
            "visibility": null,
            "width": null
          }
        },
        "4b279b85228047308164057d30ffe04b": {
          "model_module": "@jupyter-widgets/base",
          "model_name": "LayoutModel",
          "model_module_version": "1.2.0",
          "state": {
            "_model_module": "@jupyter-widgets/base",
            "_model_module_version": "1.2.0",
            "_model_name": "LayoutModel",
            "_view_count": null,
            "_view_module": "@jupyter-widgets/base",
            "_view_module_version": "1.2.0",
            "_view_name": "LayoutView",
            "align_content": null,
            "align_items": null,
            "align_self": null,
            "border": null,
            "bottom": null,
            "display": null,
            "flex": null,
            "flex_flow": null,
            "grid_area": null,
            "grid_auto_columns": null,
            "grid_auto_flow": null,
            "grid_auto_rows": null,
            "grid_column": null,
            "grid_gap": null,
            "grid_row": null,
            "grid_template_areas": null,
            "grid_template_columns": null,
            "grid_template_rows": null,
            "height": null,
            "justify_content": null,
            "justify_items": null,
            "left": null,
            "margin": null,
            "max_height": null,
            "max_width": null,
            "min_height": null,
            "min_width": null,
            "object_fit": null,
            "object_position": null,
            "order": null,
            "overflow": null,
            "overflow_x": null,
            "overflow_y": null,
            "padding": null,
            "right": null,
            "top": null,
            "visibility": null,
            "width": null
          }
        },
        "2aae7651257f45bca658ae1de29ef9af": {
          "model_module": "@jupyter-widgets/controls",
          "model_name": "DescriptionStyleModel",
          "model_module_version": "1.5.0",
          "state": {
            "_model_module": "@jupyter-widgets/controls",
            "_model_module_version": "1.5.0",
            "_model_name": "DescriptionStyleModel",
            "_view_count": null,
            "_view_module": "@jupyter-widgets/base",
            "_view_module_version": "1.2.0",
            "_view_name": "StyleView",
            "description_width": ""
          }
        },
        "68280b9bed844f0195fdfd1f0efd3938": {
          "model_module": "@jupyter-widgets/base",
          "model_name": "LayoutModel",
          "model_module_version": "1.2.0",
          "state": {
            "_model_module": "@jupyter-widgets/base",
            "_model_module_version": "1.2.0",
            "_model_name": "LayoutModel",
            "_view_count": null,
            "_view_module": "@jupyter-widgets/base",
            "_view_module_version": "1.2.0",
            "_view_name": "LayoutView",
            "align_content": null,
            "align_items": null,
            "align_self": null,
            "border": null,
            "bottom": null,
            "display": null,
            "flex": null,
            "flex_flow": null,
            "grid_area": null,
            "grid_auto_columns": null,
            "grid_auto_flow": null,
            "grid_auto_rows": null,
            "grid_column": null,
            "grid_gap": null,
            "grid_row": null,
            "grid_template_areas": null,
            "grid_template_columns": null,
            "grid_template_rows": null,
            "height": null,
            "justify_content": null,
            "justify_items": null,
            "left": null,
            "margin": null,
            "max_height": null,
            "max_width": null,
            "min_height": null,
            "min_width": null,
            "object_fit": null,
            "object_position": null,
            "order": null,
            "overflow": null,
            "overflow_x": null,
            "overflow_y": null,
            "padding": null,
            "right": null,
            "top": null,
            "visibility": null,
            "width": null
          }
        },
        "e0904b753b48444488261e0d04d02fc3": {
          "model_module": "@jupyter-widgets/controls",
          "model_name": "ProgressStyleModel",
          "model_module_version": "1.5.0",
          "state": {
            "_model_module": "@jupyter-widgets/controls",
            "_model_module_version": "1.5.0",
            "_model_name": "ProgressStyleModel",
            "_view_count": null,
            "_view_module": "@jupyter-widgets/base",
            "_view_module_version": "1.2.0",
            "_view_name": "StyleView",
            "bar_color": null,
            "description_width": ""
          }
        },
        "f624502f22ec4eb8a14095d0194606c4": {
          "model_module": "@jupyter-widgets/controls",
          "model_name": "VBoxModel",
          "model_module_version": "1.5.0",
          "state": {
            "_dom_classes": [],
            "_model_module": "@jupyter-widgets/controls",
            "_model_module_version": "1.5.0",
            "_model_name": "VBoxModel",
            "_view_count": null,
            "_view_module": "@jupyter-widgets/controls",
            "_view_module_version": "1.5.0",
            "_view_name": "VBoxView",
            "box_style": "",
            "children": [
              "IPY_MODEL_386b5424e35248ec9dc8347ea41970de",
              "IPY_MODEL_3e8d746242904adc8caaa297118bd2f1"
            ],
            "layout": "IPY_MODEL_ba24d66ca5404a5d83e4577aeaf54f49"
          }
        },
        "386b5424e35248ec9dc8347ea41970de": {
          "model_module": "@jupyter-widgets/controls",
          "model_name": "LabelModel",
          "model_module_version": "1.5.0",
          "state": {
            "_dom_classes": [],
            "_model_module": "@jupyter-widgets/controls",
            "_model_module_version": "1.5.0",
            "_model_name": "LabelModel",
            "_view_count": null,
            "_view_module": "@jupyter-widgets/controls",
            "_view_module_version": "1.5.0",
            "_view_name": "LabelView",
            "description": "",
            "description_tooltip": null,
            "layout": "IPY_MODEL_e5d00c6b7cf94109883e08269f3a0ca2",
            "placeholder": "​",
            "style": "IPY_MODEL_95858e3ad84b47a18e42f11be4a2e6a9",
            "value": "0.008 MB of 0.008 MB uploaded (0.000 MB deduped)\r"
          }
        },
        "3e8d746242904adc8caaa297118bd2f1": {
          "model_module": "@jupyter-widgets/controls",
          "model_name": "FloatProgressModel",
          "model_module_version": "1.5.0",
          "state": {
            "_dom_classes": [],
            "_model_module": "@jupyter-widgets/controls",
            "_model_module_version": "1.5.0",
            "_model_name": "FloatProgressModel",
            "_view_count": null,
            "_view_module": "@jupyter-widgets/controls",
            "_view_module_version": "1.5.0",
            "_view_name": "ProgressView",
            "bar_style": "",
            "description": "",
            "description_tooltip": null,
            "layout": "IPY_MODEL_5d8efc05bfd74df4aa4392862599a456",
            "max": 1,
            "min": 0,
            "orientation": "horizontal",
            "style": "IPY_MODEL_125ff1faf83c423f9c51915f8698f619",
            "value": 1
          }
        },
        "ba24d66ca5404a5d83e4577aeaf54f49": {
          "model_module": "@jupyter-widgets/base",
          "model_name": "LayoutModel",
          "model_module_version": "1.2.0",
          "state": {
            "_model_module": "@jupyter-widgets/base",
            "_model_module_version": "1.2.0",
            "_model_name": "LayoutModel",
            "_view_count": null,
            "_view_module": "@jupyter-widgets/base",
            "_view_module_version": "1.2.0",
            "_view_name": "LayoutView",
            "align_content": null,
            "align_items": null,
            "align_self": null,
            "border": null,
            "bottom": null,
            "display": null,
            "flex": null,
            "flex_flow": null,
            "grid_area": null,
            "grid_auto_columns": null,
            "grid_auto_flow": null,
            "grid_auto_rows": null,
            "grid_column": null,
            "grid_gap": null,
            "grid_row": null,
            "grid_template_areas": null,
            "grid_template_columns": null,
            "grid_template_rows": null,
            "height": null,
            "justify_content": null,
            "justify_items": null,
            "left": null,
            "margin": null,
            "max_height": null,
            "max_width": null,
            "min_height": null,
            "min_width": null,
            "object_fit": null,
            "object_position": null,
            "order": null,
            "overflow": null,
            "overflow_x": null,
            "overflow_y": null,
            "padding": null,
            "right": null,
            "top": null,
            "visibility": null,
            "width": null
          }
        },
        "e5d00c6b7cf94109883e08269f3a0ca2": {
          "model_module": "@jupyter-widgets/base",
          "model_name": "LayoutModel",
          "model_module_version": "1.2.0",
          "state": {
            "_model_module": "@jupyter-widgets/base",
            "_model_module_version": "1.2.0",
            "_model_name": "LayoutModel",
            "_view_count": null,
            "_view_module": "@jupyter-widgets/base",
            "_view_module_version": "1.2.0",
            "_view_name": "LayoutView",
            "align_content": null,
            "align_items": null,
            "align_self": null,
            "border": null,
            "bottom": null,
            "display": null,
            "flex": null,
            "flex_flow": null,
            "grid_area": null,
            "grid_auto_columns": null,
            "grid_auto_flow": null,
            "grid_auto_rows": null,
            "grid_column": null,
            "grid_gap": null,
            "grid_row": null,
            "grid_template_areas": null,
            "grid_template_columns": null,
            "grid_template_rows": null,
            "height": null,
            "justify_content": null,
            "justify_items": null,
            "left": null,
            "margin": null,
            "max_height": null,
            "max_width": null,
            "min_height": null,
            "min_width": null,
            "object_fit": null,
            "object_position": null,
            "order": null,
            "overflow": null,
            "overflow_x": null,
            "overflow_y": null,
            "padding": null,
            "right": null,
            "top": null,
            "visibility": null,
            "width": null
          }
        },
        "95858e3ad84b47a18e42f11be4a2e6a9": {
          "model_module": "@jupyter-widgets/controls",
          "model_name": "DescriptionStyleModel",
          "model_module_version": "1.5.0",
          "state": {
            "_model_module": "@jupyter-widgets/controls",
            "_model_module_version": "1.5.0",
            "_model_name": "DescriptionStyleModel",
            "_view_count": null,
            "_view_module": "@jupyter-widgets/base",
            "_view_module_version": "1.2.0",
            "_view_name": "StyleView",
            "description_width": ""
          }
        },
        "5d8efc05bfd74df4aa4392862599a456": {
          "model_module": "@jupyter-widgets/base",
          "model_name": "LayoutModel",
          "model_module_version": "1.2.0",
          "state": {
            "_model_module": "@jupyter-widgets/base",
            "_model_module_version": "1.2.0",
            "_model_name": "LayoutModel",
            "_view_count": null,
            "_view_module": "@jupyter-widgets/base",
            "_view_module_version": "1.2.0",
            "_view_name": "LayoutView",
            "align_content": null,
            "align_items": null,
            "align_self": null,
            "border": null,
            "bottom": null,
            "display": null,
            "flex": null,
            "flex_flow": null,
            "grid_area": null,
            "grid_auto_columns": null,
            "grid_auto_flow": null,
            "grid_auto_rows": null,
            "grid_column": null,
            "grid_gap": null,
            "grid_row": null,
            "grid_template_areas": null,
            "grid_template_columns": null,
            "grid_template_rows": null,
            "height": null,
            "justify_content": null,
            "justify_items": null,
            "left": null,
            "margin": null,
            "max_height": null,
            "max_width": null,
            "min_height": null,
            "min_width": null,
            "object_fit": null,
            "object_position": null,
            "order": null,
            "overflow": null,
            "overflow_x": null,
            "overflow_y": null,
            "padding": null,
            "right": null,
            "top": null,
            "visibility": null,
            "width": null
          }
        },
        "125ff1faf83c423f9c51915f8698f619": {
          "model_module": "@jupyter-widgets/controls",
          "model_name": "ProgressStyleModel",
          "model_module_version": "1.5.0",
          "state": {
            "_model_module": "@jupyter-widgets/controls",
            "_model_module_version": "1.5.0",
            "_model_name": "ProgressStyleModel",
            "_view_count": null,
            "_view_module": "@jupyter-widgets/base",
            "_view_module_version": "1.2.0",
            "_view_name": "StyleView",
            "bar_color": null,
            "description_width": ""
          }
        }
      }
    }
  },
  "cells": [
    {
      "cell_type": "markdown",
      "metadata": {
        "id": "view-in-github",
        "colab_type": "text"
      },
      "source": [
        "<a href=\"https://colab.research.google.com/github/JayantJharkhande3000/CS6910_Assignment_03_EtoH/blob/main/Question_5.ipynb\" target=\"_parent\"><img src=\"https://colab.research.google.com/assets/colab-badge.svg\" alt=\"Open In Colab\"/></a>"
      ]
    },
    {
      "cell_type": "code",
      "source": [
        "import re\n",
        "from tqdm import tqdm\n",
        "import pandas as pd\n",
        "import numpy as np\n",
        "import tensorflow as tf\n",
        "import matplotlib.pyplot as plt\n",
        "from keras.models import Sequential,Model,load_model\n",
        "from keras.layers import Dense,LSTM,GRU,SimpleRNN,Input,Dropout,TimeDistributed,RepeatVector,dot,BatchNormalization,concatenate,multiply,Activation\n",
        "from keras.layers.embeddings import Embedding\n",
        "from keras.layers import Layer\n",
        "from keras.preprocessing import sequence\n",
        "from tensorflow.keras.optimizers import Adam,Adadelta,Nadam,SGD\n",
        "from keras.losses import SparseCategoricalCrossentropy"
      ],
      "metadata": {
        "id": "i255DmiLb7hD"
      },
      "execution_count": 1,
      "outputs": []
    },
    {
      "cell_type": "code",
      "source": [
        "from google.colab import drive\n",
        "drive.mount('/content/drive')"
      ],
      "metadata": {
        "colab": {
          "base_uri": "https://localhost:8080/"
        },
        "id": "3cWNdwGeb7eG",
        "outputId": "3d260b96-8d94-46bd-f323-2257c7434b86"
      },
      "execution_count": 2,
      "outputs": [
        {
          "output_type": "stream",
          "name": "stdout",
          "text": [
            "Mounted at /content/drive\n"
          ]
        }
      ]
    },
    {
      "cell_type": "code",
      "source": [
        "train_data_path = \"/content/drive/MyDrive/DATA/lexicons/hi.translit.sampled.train.tsv\"\n",
        "test_data_path = \"/content/drive/MyDrive/DATA/lexicons/hi.translit.sampled.test.tsv\"\n",
        "validation_data_path = \"/content/drive/MyDrive/DATA/lexicons/hi.translit.sampled.dev.tsv\""
      ],
      "metadata": {
        "id": "827YUHwXb7bh"
      },
      "execution_count": 3,
      "outputs": []
    },
    {
      "cell_type": "code",
      "source": [
        "class English_to_Hindi_Attention(Layer):\n",
        "  def __init__(self, units):\n",
        "    super(English_to_Hindi_Attention, self).__init__()\n",
        "    self.W1 = Dense(units)\n",
        "    self.W2 = Dense(units)\n",
        "    self.V = Dense(1)\n",
        "\n",
        "  def call(self, query, values):\n",
        "    query_with_time_axis = tf.expand_dims(query, 1)\n",
        "    \n",
        "    score = self.V(tf.nn.tanh(\n",
        "        self.W1(query_with_time_axis) + self.W2(values)))\n",
        "    \n",
        "    attention_weights = tf.nn.softmax(score, axis=1)\n",
        "    context_vector = tf.reduce_sum((attention_weights * values), axis=1)\n",
        "\n",
        "    return context_vector, attention_weights"
      ],
      "metadata": {
        "id": "6txnVlWodsoA"
      },
      "execution_count": 13,
      "outputs": []
    },
    {
      "cell_type": "code",
      "source": [
        "class Encoder(Model):\n",
        "  def __init__(self,cell,vocab_size, embedding_dim, latent_dim, batch_size,initializer,dropouts):\n",
        "    super(Encoder, self).__init__()\n",
        "    self.cell = cell\n",
        "    self.batch_size = batch_size\n",
        "    self.latent_dim = latent_dim\n",
        "    self.embedding = Embedding(vocab_size, embedding_dim)\n",
        "    if cell == \"gru\":\n",
        "        self.gru = GRU(latent_dim,return_sequences=True,return_state=True,recurrent_initializer = initializer,dropout=dropouts)\n",
        "    elif cell == \"lstm\":\n",
        "        self.lstm = LSTM(latent_dim,return_sequences=True,return_state=True,recurrent_initializer = initializer,dropout=dropouts)\n",
        "    elif cell == \"rnn\":\n",
        "        self.rnn = SimpleRNN(latent_dim,return_sequences=True,return_state=True,recurrent_initializer = initializer,dropout=dropouts)\n",
        "\n",
        "\n",
        "  def call(self, x, hidden):\n",
        "    x = self.embedding(x)\n",
        "    if self.cell == \"gru\":\n",
        "        output, state = self.gru(x, initial_state=hidden)\n",
        "    elif self.cell == \"lstm\":\n",
        "        output, state, state_c= self.lstm(x, initial_state=hidden)\n",
        "    elif self.cell == \"rnn\":\n",
        "        output, state = self.rnn(x, initial_state=hidden)\n",
        "    return output, state\n",
        "\n",
        "  def initialize_hidden_state(self):\n",
        "      if self.cell == 'lstm':\n",
        "          return [tf.zeros((self.batch_size, self.latent_dim)),tf.zeros((self.batch_size, self.latent_dim))]\n",
        "      return tf.zeros((self.batch_size, self.latent_dim))"
      ],
      "metadata": {
        "id": "-MX71nNccFlM"
      },
      "execution_count": 14,
      "outputs": []
    },
    {
      "cell_type": "code",
      "source": [
        "class Decoder(Model):\n",
        "  def __init__(self, cell, vocab_size, embedding_dim, latent_dim, batch_size,initializer,dropouts):\n",
        "    super(Decoder, self).__init__()\n",
        "    self.cell = cell\n",
        "    self.batch_size = batch_size\n",
        "    self.attention = English_to_Hindi_Attention(latent_dim)\n",
        "    self.embedding = Embedding(vocab_size, embedding_dim)\n",
        "    self.dense = Dense(vocab_size)\n",
        "    if cell == \"gru\":\n",
        "        self.gru = GRU(latent_dim,return_sequences=True,return_state=True,recurrent_initializer = initializer,dropout=dropouts)\n",
        "    elif cell == \"lstm\":\n",
        "        self.lstm = LSTM(latent_dim,return_sequences=True,return_state=True,recurrent_initializer = initializer,dropout=dropouts)\n",
        "    elif cell == \"rnn\":\n",
        "        self.rnn = SimpleRNN(latent_dim,return_sequences=True,return_state=True,recurrent_initializer = initializer,dropout=dropouts)\n",
        "\n",
        "  def call(self, x, hidden, enc_output):\n",
        "    context_vector, attention_weights = self.attention(hidden, enc_output)\n",
        "\n",
        "    x = self.embedding(x)\n",
        "    x = tf.concat([tf.expand_dims(context_vector, 1), x], axis=-1)\n",
        "    if self.cell == \"gru\":\n",
        "        output, state = self.gru(x)\n",
        "    elif self.cell == \"lstm\":\n",
        "        output, state,state_c = self.lstm(x)\n",
        "    elif self.cell == \"rnn\":\n",
        "        output, state = self.rnn(x)\n",
        "\n",
        "    output = tf.reshape(output, (-1, output.shape[2]))\n",
        "    x = self.dense(output)\n",
        "\n",
        "    return x, state, attention_weights"
      ],
      "metadata": {
        "id": "gHRslmtScFh7"
      },
      "execution_count": 15,
      "outputs": []
    },
    {
      "cell_type": "code",
      "source": [
        "class Attention:\n",
        "    def __init__(self,cell,embedding_size,latent_dim,optimizer,dropouts,batch_size,epochs,initializer):\n",
        "        self.cell = cell\n",
        "        self.embedding_dim = embedding_size\n",
        "        self.latent_dim = latent_dim\n",
        "        self.BATCH_SIZE = batch_size\n",
        "        self.epochs = epochs\n",
        "        self.opt = optimizer\n",
        "        self.dropouts=dropouts\n",
        "        self.initializer=initializer\n",
        "\n",
        "    @tf.function()    \n",
        "    def train_step(self, inp, targ, enc_hidden):\n",
        "        loss = 0\n",
        "        with tf.GradientTape() as tape:\n",
        "            enc_output, enc_hidden = self.encoder(inp, enc_hidden)\n",
        "            dec_hidden = enc_hidden\n",
        "            dec_input = tf.expand_dims([self.input_token_index['\\t']] * self.BATCH_SIZE, 1)\n",
        "\n",
        "            for t in range(1, targ.shape[1]):\n",
        "                predictions, dec_hidden, _ = self.decoder(dec_input, dec_hidden, enc_output)\n",
        "                loss += self.loss_function(targ[:, t], predictions)\n",
        "                dec_input = tf.expand_dims(targ[:, t], 1)\n",
        "\n",
        "        batch_loss = (loss / int(targ.shape[1]))\n",
        "        variables = self.encoder.trainable_variables + self.decoder.trainable_variables + self.decoder.attention.trainable_variables\n",
        "        gradients = tape.gradient(loss, variables)\n",
        "        self.optimizer.apply_gradients(zip(gradients, variables))\n",
        "        return batch_loss\n",
        "\n",
        "    def get_data(self,path):\n",
        "        d = pd.read_csv(path,sep=\"\\t\",header=None,error_bad_lines=False)\n",
        "        d = d.dropna()\n",
        "\n",
        "        decoder_target_data = np.zeros((d.shape[0],self.max_length_y,self.decoder_tokens), dtype=\"float32\")\n",
        "\n",
        "        for i,target_text in enumerate(d[0]):\n",
        "            target_text = '\\t'+target_text+'\\n'\n",
        "            for t, char in enumerate(target_text):\n",
        "                if t > 0:\n",
        "                    decoder_target_data[i, t - 1, self.target_token_index[char]] = 1.0\n",
        "            decoder_target_data[i, t:, self.target_token_index[\"\\n\"]] = 1.0\n",
        "\n",
        "        return ([[self.input_token_index[letter] for letter in list('\\t'+word+'\\n')] for word in d[1]]),\\\n",
        "                ([[self.target_token_index[letter] for letter in list('\\t'+word+'\\n')] for word in d[0]]),decoder_target_data\n",
        "\n",
        "    def create_vocab(self,path):\n",
        "        d = pd.read_csv(path,sep=\"\\t\",header=None,error_bad_lines=False)\n",
        "        d = d.dropna()\n",
        "\n",
        "        x = [list('\\t'+word+'\\n') for word in np.array(d[1])]\n",
        "        y = [list('\\t'+word+'\\n') for word in np.array(d[0])]\n",
        "\n",
        "        hindi_vocab = set()\n",
        "        english_vocab = set()\n",
        "\n",
        "        for word in x:\n",
        "            for char in word:\n",
        "                english_vocab.add(char)\n",
        "\n",
        "        for word in y:\n",
        "            for char in word:\n",
        "                hindi_vocab.add(char)\n",
        "\n",
        "        hindi_list = sorted(list(hindi_vocab))\n",
        "        english_list = sorted(list(english_vocab))\n",
        "\n",
        "        max_length_x = (np.max([len(i) for i in x]))\n",
        "        max_length_y = (np.max([len(i) for i in y]))\n",
        "\n",
        "        return hindi_list,english_list,max_length_x,max_length_y    \n",
        "\n",
        "    def create_data(self):\n",
        "        train_path = \"/content/drive/MyDrive/DATA/lexicons/hi.translit.sampled.train.tsv\"\n",
        "        cv_path = \"/content/drive/MyDrive/DATA/lexicons/hi.translit.sampled.dev.tsv\"\n",
        "        test_path = \"/content/drive/MyDrive/DATA/lexicons/hi.translit.sampled.test.tsv\"\n",
        "\n",
        "        hindi_list,english_list,self.max_length_x,self.max_length_y = self.create_vocab(train_path)\n",
        "        self.encoder_tokens = len(english_list)\n",
        "        self.decoder_tokens = len(hindi_list)\n",
        "\n",
        "        # Dict for char to index\n",
        "        self.input_token_index = dict([(char, i) for i, char in enumerate(english_list)])\n",
        "        self.target_token_index = dict([(char, i) for i, char in enumerate(hindi_list)])\n",
        "\n",
        "        # Dict for index to char\n",
        "        self.inv_input_token_index = dict({(value,key) for key,value in self.input_token_index.items()})\n",
        "        self.inv_target_token_index = dict({(value,key) for key,value in self.target_token_index.items()})\n",
        "\n",
        "        encoder_train,decoder_train,self.decoder_target_train = self.get_data(train_path)\n",
        "        encoder_cv,decoder_cv,self.decoder_target_cv = self.get_data(cv_path)\n",
        "        encoder_test,decoder_test,self.decoder_target_test = self.get_data(test_path)\n",
        "\n",
        "\n",
        "        self.encoder_train = sequence.pad_sequences(encoder_train,maxlen=self.max_length_x,padding=\"post\")\n",
        "        self.decoder_train = sequence.pad_sequences(decoder_train,maxlen=self.max_length_y,padding=\"post\")\n",
        "        self.encoder_cv = sequence.pad_sequences(encoder_cv,maxlen=self.max_length_x,padding=\"post\")\n",
        "        self.decoder_cv = sequence.pad_sequences(decoder_cv,maxlen=self.max_length_y,padding=\"post\")\n",
        "        self.encoder_test = sequence.pad_sequences(encoder_test,maxlen=self.max_length_x,padding=\"post\")\n",
        "        self.decoder_test = sequence.pad_sequences(decoder_test,maxlen=self.max_length_y,padding=\"post\")\n",
        "\n",
        "        self.BUFFER_SIZE = len(self.encoder_train)        \n",
        "        self.steps_per_epoch = len(self.encoder_train)//self.BATCH_SIZE\n",
        "\n",
        "        self.dataset = tf.data.Dataset.from_tensor_slices((self.encoder_train, self.decoder_train)).shuffle(self.BUFFER_SIZE)\n",
        "        self.dataset = self.dataset.batch(self.BATCH_SIZE, drop_remainder=True)\n",
        "\n",
        "\n",
        "    def loss_function(self,real, pred):\n",
        "        mask = tf.math.logical_not(tf.math.equal(real, 0))\n",
        "        loss_ = self.loss_object(real, pred)\n",
        "        loss_ *= tf.cast(mask, dtype=loss_.dtype)\n",
        "\n",
        "        return tf.reduce_mean(loss_)\n",
        "\n",
        "    def run(self):\n",
        "        # Compile & run training\n",
        "        if self.opt == \"nadam\":\n",
        "            self.optimizer = Nadam()\n",
        "        elif self.opt == \"sgd\":\n",
        "            self.optimizer = SGD()\n",
        "        elif self.opt == \"adadelta\":\n",
        "            self.optimizer = Adadelta()\n",
        "        else:\n",
        "            self.optimizer = Adam()\n",
        "\n",
        "        self.loss_object = SparseCategoricalCrossentropy(from_logits=True,reduction='none')\n",
        "        \n",
        "        self.encoder = Encoder(self.cell,self.encoder_tokens, self.embedding_dim, self.latent_dim, self.BATCH_SIZE, self.initializer,self.dropouts)\n",
        "        self.decoder = Decoder(self.cell,self.decoder_tokens, self.embedding_dim, self.latent_dim, self.BATCH_SIZE, self.initializer,self.dropouts)\n",
        "\n",
        "        for epoch in range(self.epochs):\n",
        "            enc_hidden = self.encoder.initialize_hidden_state()\n",
        "            total_loss = 0\n",
        "            \n",
        "            for (batch, (inp, targ)) in enumerate(self.dataset.take(self.steps_per_epoch)):\n",
        "                batch_loss = self.train_step(inp, targ, enc_hidden)\n",
        "                total_loss += batch_loss \n",
        "\n",
        "            print(f'Epoch {epoch+1} Loss {total_loss/self.steps_per_epoch:.4f}   ')        \n",
        "\n",
        "\n",
        "\n",
        "    def evaluate(self,sentence_vect,attention=False):\n",
        "        if attention:\n",
        "            att_plot = np.zeros((self.max_length_y,self.max_length_x))\n",
        "        inputs = tf.convert_to_tensor(sentence_vect)\n",
        "        inputs = tf.expand_dims(inputs,0)\n",
        "        result = ''\n",
        "        if self.cell == \"lstm\":\n",
        "            hidden = [tf.zeros((1, self.latent_dim)),tf.zeros((1, self.latent_dim))]\n",
        "        else:\n",
        "            hidden = [tf.zeros((1, self.latent_dim))]\n",
        "        enc_out, enc_hidden = self.encoder(inputs, hidden)\n",
        "\n",
        "        dec_hidden = enc_hidden\n",
        "        dec_input = tf.expand_dims([self.target_token_index['\\t']], 0)\n",
        "\n",
        "        for t in range(self.max_length_y):\n",
        "            predictions, dec_hidden, attention_weights = self.decoder(dec_input, dec_hidden, enc_out)\n",
        "            \n",
        "            if attention:\n",
        "                att_plot[t] = (tf.reshape(attention_weights,(-1,))).numpy()\n",
        "\n",
        "            predicted_id = tf.argmax(predictions[0]).numpy()\n",
        "\n",
        "            if self.inv_target_token_index[predicted_id] != \"\\n\":\n",
        "                result += self.inv_target_token_index[predicted_id]\n",
        "            else:\n",
        "                if attention:\n",
        "                    return result,att_plot\n",
        "                return result\n",
        "\n",
        "            dec_input = tf.expand_dims([predicted_id], 0) \n",
        "\n",
        "        if attention:\n",
        "            return result,att_plot\n",
        "        return result\n",
        "\n",
        "    def percentage_of_correct_test_predictions(self):\n",
        "        count = 0\n",
        "        for i in range(len(self.decoder_test)):\n",
        "            actual = \"\"\n",
        "            for x in self.decoder_test[i][1:]:\n",
        "                if self.inv_target_token_index[x]==\"\\n\":\n",
        "                    break\n",
        "                actual += self.inv_target_token_index[x]\n",
        "\n",
        "            pred = self.evaluate(self.encoder_test[i])\n",
        "            if (actual==pred):\n",
        "                count+=1\n",
        "                \n",
        "        return count/len(self.decoder_test)\n",
        "\n",
        "    def percentage_of_correct_cv_predictions(self):\n",
        "        count = 0\n",
        "        for i in range(len(self.decoder_cv)):\n",
        "            actual = \"\"\n",
        "            for x in self.decoder_cv[i][1:]:\n",
        "                if self.inv_target_token_index[x]==\"\\n\":\n",
        "                    break\n",
        "                actual += self.inv_target_token_index[x]\n",
        "\n",
        "            pred = self.evaluate(self.encoder_cv[i])\n",
        "            if (actual==pred):\n",
        "                count+=1\n",
        "\n",
        "        return count/len(self.decoder_cv)\n"
      ],
      "metadata": {
        "id": "LaRLy8-KcFfe"
      },
      "execution_count": 16,
      "outputs": []
    },
    {
      "cell_type": "code",
      "source": [
        "!pip install wandb --upgrade"
      ],
      "metadata": {
        "colab": {
          "base_uri": "https://localhost:8080/"
        },
        "id": "R9BUwfmFdMS6",
        "outputId": "77eccf61-41ba-48be-b579-57ac04f745d0"
      },
      "execution_count": 9,
      "outputs": [
        {
          "output_type": "stream",
          "name": "stdout",
          "text": [
            "Collecting wandb\n",
            "  Downloading wandb-0.12.16-py2.py3-none-any.whl (1.8 MB)\n",
            "\u001b[?25l\r\u001b[K     |▏                               | 10 kB 28.4 MB/s eta 0:00:01\r\u001b[K     |▍                               | 20 kB 31.2 MB/s eta 0:00:01\r\u001b[K     |▌                               | 30 kB 33.5 MB/s eta 0:00:01\r\u001b[K     |▊                               | 40 kB 17.0 MB/s eta 0:00:01\r\u001b[K     |█                               | 51 kB 14.5 MB/s eta 0:00:01\r\u001b[K     |█                               | 61 kB 16.4 MB/s eta 0:00:01\r\u001b[K     |█▎                              | 71 kB 16.0 MB/s eta 0:00:01\r\u001b[K     |█▌                              | 81 kB 15.3 MB/s eta 0:00:01\r\u001b[K     |█▋                              | 92 kB 16.6 MB/s eta 0:00:01\r\u001b[K     |█▉                              | 102 kB 17.0 MB/s eta 0:00:01\r\u001b[K     |██                              | 112 kB 17.0 MB/s eta 0:00:01\r\u001b[K     |██▏                             | 122 kB 17.0 MB/s eta 0:00:01\r\u001b[K     |██▍                             | 133 kB 17.0 MB/s eta 0:00:01\r\u001b[K     |██▋                             | 143 kB 17.0 MB/s eta 0:00:01\r\u001b[K     |██▊                             | 153 kB 17.0 MB/s eta 0:00:01\r\u001b[K     |███                             | 163 kB 17.0 MB/s eta 0:00:01\r\u001b[K     |███▏                            | 174 kB 17.0 MB/s eta 0:00:01\r\u001b[K     |███▎                            | 184 kB 17.0 MB/s eta 0:00:01\r\u001b[K     |███▌                            | 194 kB 17.0 MB/s eta 0:00:01\r\u001b[K     |███▋                            | 204 kB 17.0 MB/s eta 0:00:01\r\u001b[K     |███▉                            | 215 kB 17.0 MB/s eta 0:00:01\r\u001b[K     |████                            | 225 kB 17.0 MB/s eta 0:00:01\r\u001b[K     |████▏                           | 235 kB 17.0 MB/s eta 0:00:01\r\u001b[K     |████▍                           | 245 kB 17.0 MB/s eta 0:00:01\r\u001b[K     |████▋                           | 256 kB 17.0 MB/s eta 0:00:01\r\u001b[K     |████▊                           | 266 kB 17.0 MB/s eta 0:00:01\r\u001b[K     |█████                           | 276 kB 17.0 MB/s eta 0:00:01\r\u001b[K     |█████▏                          | 286 kB 17.0 MB/s eta 0:00:01\r\u001b[K     |█████▎                          | 296 kB 17.0 MB/s eta 0:00:01\r\u001b[K     |█████▌                          | 307 kB 17.0 MB/s eta 0:00:01\r\u001b[K     |█████▊                          | 317 kB 17.0 MB/s eta 0:00:01\r\u001b[K     |█████▉                          | 327 kB 17.0 MB/s eta 0:00:01\r\u001b[K     |██████                          | 337 kB 17.0 MB/s eta 0:00:01\r\u001b[K     |██████▎                         | 348 kB 17.0 MB/s eta 0:00:01\r\u001b[K     |██████▍                         | 358 kB 17.0 MB/s eta 0:00:01\r\u001b[K     |██████▋                         | 368 kB 17.0 MB/s eta 0:00:01\r\u001b[K     |██████▉                         | 378 kB 17.0 MB/s eta 0:00:01\r\u001b[K     |███████                         | 389 kB 17.0 MB/s eta 0:00:01\r\u001b[K     |███████▏                        | 399 kB 17.0 MB/s eta 0:00:01\r\u001b[K     |███████▎                        | 409 kB 17.0 MB/s eta 0:00:01\r\u001b[K     |███████▌                        | 419 kB 17.0 MB/s eta 0:00:01\r\u001b[K     |███████▊                        | 430 kB 17.0 MB/s eta 0:00:01\r\u001b[K     |███████▉                        | 440 kB 17.0 MB/s eta 0:00:01\r\u001b[K     |████████                        | 450 kB 17.0 MB/s eta 0:00:01\r\u001b[K     |████████▎                       | 460 kB 17.0 MB/s eta 0:00:01\r\u001b[K     |████████▍                       | 471 kB 17.0 MB/s eta 0:00:01\r\u001b[K     |████████▋                       | 481 kB 17.0 MB/s eta 0:00:01\r\u001b[K     |████████▉                       | 491 kB 17.0 MB/s eta 0:00:01\r\u001b[K     |█████████                       | 501 kB 17.0 MB/s eta 0:00:01\r\u001b[K     |█████████▏                      | 512 kB 17.0 MB/s eta 0:00:01\r\u001b[K     |█████████▍                      | 522 kB 17.0 MB/s eta 0:00:01\r\u001b[K     |█████████▌                      | 532 kB 17.0 MB/s eta 0:00:01\r\u001b[K     |█████████▊                      | 542 kB 17.0 MB/s eta 0:00:01\r\u001b[K     |██████████                      | 552 kB 17.0 MB/s eta 0:00:01\r\u001b[K     |██████████                      | 563 kB 17.0 MB/s eta 0:00:01\r\u001b[K     |██████████▎                     | 573 kB 17.0 MB/s eta 0:00:01\r\u001b[K     |██████████▌                     | 583 kB 17.0 MB/s eta 0:00:01\r\u001b[K     |██████████▋                     | 593 kB 17.0 MB/s eta 0:00:01\r\u001b[K     |██████████▉                     | 604 kB 17.0 MB/s eta 0:00:01\r\u001b[K     |███████████                     | 614 kB 17.0 MB/s eta 0:00:01\r\u001b[K     |███████████▏                    | 624 kB 17.0 MB/s eta 0:00:01\r\u001b[K     |███████████▍                    | 634 kB 17.0 MB/s eta 0:00:01\r\u001b[K     |███████████▌                    | 645 kB 17.0 MB/s eta 0:00:01\r\u001b[K     |███████████▊                    | 655 kB 17.0 MB/s eta 0:00:01\r\u001b[K     |████████████                    | 665 kB 17.0 MB/s eta 0:00:01\r\u001b[K     |████████████                    | 675 kB 17.0 MB/s eta 0:00:01\r\u001b[K     |████████████▎                   | 686 kB 17.0 MB/s eta 0:00:01\r\u001b[K     |████████████▌                   | 696 kB 17.0 MB/s eta 0:00:01\r\u001b[K     |████████████▋                   | 706 kB 17.0 MB/s eta 0:00:01\r\u001b[K     |████████████▉                   | 716 kB 17.0 MB/s eta 0:00:01\r\u001b[K     |█████████████                   | 727 kB 17.0 MB/s eta 0:00:01\r\u001b[K     |█████████████▏                  | 737 kB 17.0 MB/s eta 0:00:01\r\u001b[K     |█████████████▍                  | 747 kB 17.0 MB/s eta 0:00:01\r\u001b[K     |█████████████▋                  | 757 kB 17.0 MB/s eta 0:00:01\r\u001b[K     |█████████████▊                  | 768 kB 17.0 MB/s eta 0:00:01\r\u001b[K     |██████████████                  | 778 kB 17.0 MB/s eta 0:00:01\r\u001b[K     |██████████████▏                 | 788 kB 17.0 MB/s eta 0:00:01\r\u001b[K     |██████████████▎                 | 798 kB 17.0 MB/s eta 0:00:01\r\u001b[K     |██████████████▌                 | 808 kB 17.0 MB/s eta 0:00:01\r\u001b[K     |██████████████▋                 | 819 kB 17.0 MB/s eta 0:00:01\r\u001b[K     |██████████████▉                 | 829 kB 17.0 MB/s eta 0:00:01\r\u001b[K     |███████████████                 | 839 kB 17.0 MB/s eta 0:00:01\r\u001b[K     |███████████████▏                | 849 kB 17.0 MB/s eta 0:00:01\r\u001b[K     |███████████████▍                | 860 kB 17.0 MB/s eta 0:00:01\r\u001b[K     |███████████████▋                | 870 kB 17.0 MB/s eta 0:00:01\r\u001b[K     |███████████████▊                | 880 kB 17.0 MB/s eta 0:00:01\r\u001b[K     |████████████████                | 890 kB 17.0 MB/s eta 0:00:01\r\u001b[K     |████████████████▏               | 901 kB 17.0 MB/s eta 0:00:01\r\u001b[K     |████████████████▎               | 911 kB 17.0 MB/s eta 0:00:01\r\u001b[K     |████████████████▌               | 921 kB 17.0 MB/s eta 0:00:01\r\u001b[K     |████████████████▊               | 931 kB 17.0 MB/s eta 0:00:01\r\u001b[K     |████████████████▉               | 942 kB 17.0 MB/s eta 0:00:01\r\u001b[K     |█████████████████               | 952 kB 17.0 MB/s eta 0:00:01\r\u001b[K     |█████████████████▎              | 962 kB 17.0 MB/s eta 0:00:01\r\u001b[K     |█████████████████▍              | 972 kB 17.0 MB/s eta 0:00:01\r\u001b[K     |█████████████████▋              | 983 kB 17.0 MB/s eta 0:00:01\r\u001b[K     |█████████████████▉              | 993 kB 17.0 MB/s eta 0:00:01\r\u001b[K     |██████████████████              | 1.0 MB 17.0 MB/s eta 0:00:01\r\u001b[K     |██████████████████▏             | 1.0 MB 17.0 MB/s eta 0:00:01\r\u001b[K     |██████████████████▎             | 1.0 MB 17.0 MB/s eta 0:00:01\r\u001b[K     |██████████████████▌             | 1.0 MB 17.0 MB/s eta 0:00:01\r\u001b[K     |██████████████████▊             | 1.0 MB 17.0 MB/s eta 0:00:01\r\u001b[K     |██████████████████▉             | 1.1 MB 17.0 MB/s eta 0:00:01\r\u001b[K     |███████████████████             | 1.1 MB 17.0 MB/s eta 0:00:01\r\u001b[K     |███████████████████▎            | 1.1 MB 17.0 MB/s eta 0:00:01\r\u001b[K     |███████████████████▍            | 1.1 MB 17.0 MB/s eta 0:00:01\r\u001b[K     |███████████████████▋            | 1.1 MB 17.0 MB/s eta 0:00:01\r\u001b[K     |███████████████████▉            | 1.1 MB 17.0 MB/s eta 0:00:01\r\u001b[K     |████████████████████            | 1.1 MB 17.0 MB/s eta 0:00:01\r\u001b[K     |████████████████████▏           | 1.1 MB 17.0 MB/s eta 0:00:01\r\u001b[K     |████████████████████▍           | 1.1 MB 17.0 MB/s eta 0:00:01\r\u001b[K     |████████████████████▌           | 1.1 MB 17.0 MB/s eta 0:00:01\r\u001b[K     |████████████████████▊           | 1.2 MB 17.0 MB/s eta 0:00:01\r\u001b[K     |█████████████████████           | 1.2 MB 17.0 MB/s eta 0:00:01\r\u001b[K     |█████████████████████           | 1.2 MB 17.0 MB/s eta 0:00:01\r\u001b[K     |█████████████████████▎          | 1.2 MB 17.0 MB/s eta 0:00:01\r\u001b[K     |█████████████████████▌          | 1.2 MB 17.0 MB/s eta 0:00:01\r\u001b[K     |█████████████████████▋          | 1.2 MB 17.0 MB/s eta 0:00:01\r\u001b[K     |█████████████████████▉          | 1.2 MB 17.0 MB/s eta 0:00:01\r\u001b[K     |██████████████████████          | 1.2 MB 17.0 MB/s eta 0:00:01\r\u001b[K     |██████████████████████▏         | 1.2 MB 17.0 MB/s eta 0:00:01\r\u001b[K     |██████████████████████▍         | 1.2 MB 17.0 MB/s eta 0:00:01\r\u001b[K     |██████████████████████▌         | 1.3 MB 17.0 MB/s eta 0:00:01\r\u001b[K     |██████████████████████▊         | 1.3 MB 17.0 MB/s eta 0:00:01\r\u001b[K     |███████████████████████         | 1.3 MB 17.0 MB/s eta 0:00:01\r\u001b[K     |███████████████████████         | 1.3 MB 17.0 MB/s eta 0:00:01\r\u001b[K     |███████████████████████▎        | 1.3 MB 17.0 MB/s eta 0:00:01\r\u001b[K     |███████████████████████▌        | 1.3 MB 17.0 MB/s eta 0:00:01\r\u001b[K     |███████████████████████▋        | 1.3 MB 17.0 MB/s eta 0:00:01\r\u001b[K     |███████████████████████▉        | 1.3 MB 17.0 MB/s eta 0:00:01\r\u001b[K     |████████████████████████        | 1.3 MB 17.0 MB/s eta 0:00:01\r\u001b[K     |████████████████████████▏       | 1.4 MB 17.0 MB/s eta 0:00:01\r\u001b[K     |████████████████████████▍       | 1.4 MB 17.0 MB/s eta 0:00:01\r\u001b[K     |████████████████████████▋       | 1.4 MB 17.0 MB/s eta 0:00:01\r\u001b[K     |████████████████████████▊       | 1.4 MB 17.0 MB/s eta 0:00:01\r\u001b[K     |█████████████████████████       | 1.4 MB 17.0 MB/s eta 0:00:01\r\u001b[K     |█████████████████████████▏      | 1.4 MB 17.0 MB/s eta 0:00:01\r\u001b[K     |█████████████████████████▎      | 1.4 MB 17.0 MB/s eta 0:00:01\r\u001b[K     |█████████████████████████▌      | 1.4 MB 17.0 MB/s eta 0:00:01\r\u001b[K     |█████████████████████████▋      | 1.4 MB 17.0 MB/s eta 0:00:01\r\u001b[K     |█████████████████████████▉      | 1.4 MB 17.0 MB/s eta 0:00:01\r\u001b[K     |██████████████████████████      | 1.5 MB 17.0 MB/s eta 0:00:01\r\u001b[K     |██████████████████████████▏     | 1.5 MB 17.0 MB/s eta 0:00:01\r\u001b[K     |██████████████████████████▍     | 1.5 MB 17.0 MB/s eta 0:00:01\r\u001b[K     |██████████████████████████▋     | 1.5 MB 17.0 MB/s eta 0:00:01\r\u001b[K     |██████████████████████████▊     | 1.5 MB 17.0 MB/s eta 0:00:01\r\u001b[K     |███████████████████████████     | 1.5 MB 17.0 MB/s eta 0:00:01\r\u001b[K     |███████████████████████████▏    | 1.5 MB 17.0 MB/s eta 0:00:01\r\u001b[K     |███████████████████████████▎    | 1.5 MB 17.0 MB/s eta 0:00:01\r\u001b[K     |███████████████████████████▌    | 1.5 MB 17.0 MB/s eta 0:00:01\r\u001b[K     |███████████████████████████▊    | 1.5 MB 17.0 MB/s eta 0:00:01\r\u001b[K     |███████████████████████████▉    | 1.6 MB 17.0 MB/s eta 0:00:01\r\u001b[K     |████████████████████████████    | 1.6 MB 17.0 MB/s eta 0:00:01\r\u001b[K     |████████████████████████████▎   | 1.6 MB 17.0 MB/s eta 0:00:01\r\u001b[K     |████████████████████████████▍   | 1.6 MB 17.0 MB/s eta 0:00:01\r\u001b[K     |████████████████████████████▋   | 1.6 MB 17.0 MB/s eta 0:00:01\r\u001b[K     |████████████████████████████▉   | 1.6 MB 17.0 MB/s eta 0:00:01\r\u001b[K     |█████████████████████████████   | 1.6 MB 17.0 MB/s eta 0:00:01\r\u001b[K     |█████████████████████████████▏  | 1.6 MB 17.0 MB/s eta 0:00:01\r\u001b[K     |█████████████████████████████▎  | 1.6 MB 17.0 MB/s eta 0:00:01\r\u001b[K     |█████████████████████████████▌  | 1.6 MB 17.0 MB/s eta 0:00:01\r\u001b[K     |█████████████████████████████▊  | 1.7 MB 17.0 MB/s eta 0:00:01\r\u001b[K     |█████████████████████████████▉  | 1.7 MB 17.0 MB/s eta 0:00:01\r\u001b[K     |██████████████████████████████  | 1.7 MB 17.0 MB/s eta 0:00:01\r\u001b[K     |██████████████████████████████▎ | 1.7 MB 17.0 MB/s eta 0:00:01\r\u001b[K     |██████████████████████████████▍ | 1.7 MB 17.0 MB/s eta 0:00:01\r\u001b[K     |██████████████████████████████▋ | 1.7 MB 17.0 MB/s eta 0:00:01\r\u001b[K     |██████████████████████████████▉ | 1.7 MB 17.0 MB/s eta 0:00:01\r\u001b[K     |███████████████████████████████ | 1.7 MB 17.0 MB/s eta 0:00:01\r\u001b[K     |███████████████████████████████▏| 1.7 MB 17.0 MB/s eta 0:00:01\r\u001b[K     |███████████████████████████████▍| 1.8 MB 17.0 MB/s eta 0:00:01\r\u001b[K     |███████████████████████████████▌| 1.8 MB 17.0 MB/s eta 0:00:01\r\u001b[K     |███████████████████████████████▊| 1.8 MB 17.0 MB/s eta 0:00:01\r\u001b[K     |████████████████████████████████| 1.8 MB 17.0 MB/s eta 0:00:01\r\u001b[K     |████████████████████████████████| 1.8 MB 17.0 MB/s \n",
            "\u001b[?25hRequirement already satisfied: psutil>=5.0.0 in /usr/local/lib/python3.7/dist-packages (from wandb) (5.4.8)\n",
            "Requirement already satisfied: python-dateutil>=2.6.1 in /usr/local/lib/python3.7/dist-packages (from wandb) (2.8.2)\n",
            "Requirement already satisfied: protobuf>=3.12.0 in /usr/local/lib/python3.7/dist-packages (from wandb) (3.17.3)\n",
            "Collecting docker-pycreds>=0.4.0\n",
            "  Downloading docker_pycreds-0.4.0-py2.py3-none-any.whl (9.0 kB)\n",
            "Collecting shortuuid>=0.5.0\n",
            "  Downloading shortuuid-1.0.9-py3-none-any.whl (9.4 kB)\n",
            "Requirement already satisfied: PyYAML in /usr/local/lib/python3.7/dist-packages (from wandb) (3.13)\n",
            "Requirement already satisfied: six>=1.13.0 in /usr/local/lib/python3.7/dist-packages (from wandb) (1.15.0)\n",
            "Collecting pathtools\n",
            "  Downloading pathtools-0.1.2.tar.gz (11 kB)\n",
            "Collecting setproctitle\n",
            "  Downloading setproctitle-1.2.3-cp37-cp37m-manylinux_2_5_x86_64.manylinux1_x86_64.manylinux_2_17_x86_64.manylinux2014_x86_64.whl (29 kB)\n",
            "Requirement already satisfied: promise<3,>=2.0 in /usr/local/lib/python3.7/dist-packages (from wandb) (2.3)\n",
            "Collecting sentry-sdk>=1.0.0\n",
            "  Downloading sentry_sdk-1.5.12-py2.py3-none-any.whl (145 kB)\n",
            "\u001b[K     |████████████████████████████████| 145 kB 48.9 MB/s \n",
            "\u001b[?25hRequirement already satisfied: setuptools in /usr/local/lib/python3.7/dist-packages (from wandb) (57.4.0)\n",
            "Collecting GitPython>=1.0.0\n",
            "  Downloading GitPython-3.1.27-py3-none-any.whl (181 kB)\n",
            "\u001b[K     |████████████████████████████████| 181 kB 49.3 MB/s \n",
            "\u001b[?25hRequirement already satisfied: requests<3,>=2.0.0 in /usr/local/lib/python3.7/dist-packages (from wandb) (2.23.0)\n",
            "Requirement already satisfied: Click!=8.0.0,>=7.0 in /usr/local/lib/python3.7/dist-packages (from wandb) (7.1.2)\n",
            "Requirement already satisfied: typing-extensions>=3.7.4.3 in /usr/local/lib/python3.7/dist-packages (from GitPython>=1.0.0->wandb) (4.2.0)\n",
            "Collecting gitdb<5,>=4.0.1\n",
            "  Downloading gitdb-4.0.9-py3-none-any.whl (63 kB)\n",
            "\u001b[K     |████████████████████████████████| 63 kB 2.2 MB/s \n",
            "\u001b[?25hCollecting smmap<6,>=3.0.1\n",
            "  Downloading smmap-5.0.0-py3-none-any.whl (24 kB)\n",
            "Requirement already satisfied: idna<3,>=2.5 in /usr/local/lib/python3.7/dist-packages (from requests<3,>=2.0.0->wandb) (2.10)\n",
            "Requirement already satisfied: chardet<4,>=3.0.2 in /usr/local/lib/python3.7/dist-packages (from requests<3,>=2.0.0->wandb) (3.0.4)\n",
            "Requirement already satisfied: certifi>=2017.4.17 in /usr/local/lib/python3.7/dist-packages (from requests<3,>=2.0.0->wandb) (2021.10.8)\n",
            "Requirement already satisfied: urllib3!=1.25.0,!=1.25.1,<1.26,>=1.21.1 in /usr/local/lib/python3.7/dist-packages (from requests<3,>=2.0.0->wandb) (1.24.3)\n",
            "Building wheels for collected packages: pathtools\n",
            "  Building wheel for pathtools (setup.py) ... \u001b[?25l\u001b[?25hdone\n",
            "  Created wheel for pathtools: filename=pathtools-0.1.2-py3-none-any.whl size=8806 sha256=337fc9f66b8ffd80f2df267a67fd7372bd42d26019c4ddd5d158c365d91706f6\n",
            "  Stored in directory: /root/.cache/pip/wheels/3e/31/09/fa59cef12cdcfecc627b3d24273699f390e71828921b2cbba2\n",
            "Successfully built pathtools\n",
            "Installing collected packages: smmap, gitdb, shortuuid, setproctitle, sentry-sdk, pathtools, GitPython, docker-pycreds, wandb\n",
            "Successfully installed GitPython-3.1.27 docker-pycreds-0.4.0 gitdb-4.0.9 pathtools-0.1.2 sentry-sdk-1.5.12 setproctitle-1.2.3 shortuuid-1.0.9 smmap-5.0.0 wandb-0.12.16\n"
          ]
        }
      ]
    },
    {
      "cell_type": "code",
      "source": [
        "import wandb\n",
        "from wandb.keras import WandbCallback"
      ],
      "metadata": {
        "id": "8KRAYt5GcFc_"
      },
      "execution_count": 10,
      "outputs": []
    },
    {
      "cell_type": "code",
      "source": [
        "!wandb login"
      ],
      "metadata": {
        "colab": {
          "base_uri": "https://localhost:8080/"
        },
        "id": "aWxiZ3grcFbJ",
        "outputId": "b95f25ab-7684-4c0e-93fc-3bd9e6ce62a4"
      },
      "execution_count": 11,
      "outputs": [
        {
          "output_type": "stream",
          "name": "stdout",
          "text": [
            "\u001b[34m\u001b[1mwandb\u001b[0m: You can find your API key in your browser here: https://wandb.ai/authorize\n",
            "\u001b[34m\u001b[1mwandb\u001b[0m: Paste an API key from your profile and hit enter, or press ctrl+c to quit: \n",
            "\u001b[34m\u001b[1mwandb\u001b[0m: Appending key for api.wandb.ai to your netrc file: /root/.netrc\n"
          ]
        }
      ]
    },
    {
      "cell_type": "code",
      "source": [
        "wandb.init(project=\"Question5\", entity=\"jharkhandejayant\")"
      ],
      "metadata": {
        "colab": {
          "base_uri": "https://localhost:8080/",
          "height": 196,
          "referenced_widgets": [
            "dd40d787ae434c5ebfd987c0d6202f98",
            "0c28e3e20bd7464c963634ddf0ecf119",
            "8cb66349eb5f4746996bf7e29c6c8bee",
            "a0dfe537a6d54defa19fc795a56560d7",
            "2dc940aba45d42229c7e99ed323504e1",
            "71de2cac5ea3430bb65012c31eee9842",
            "669e1c3be928487ba1f647cca2896dc0",
            "4662be881be04327953d58e6b0bd2a9b"
          ]
        },
        "id": "a4y2LmgCcFYk",
        "outputId": "0a57b0f8-2fc0-411a-fc08-f16fbef3c827"
      },
      "execution_count": 17,
      "outputs": [
        {
          "output_type": "display_data",
          "data": {
            "text/plain": [
              "<IPython.core.display.HTML object>"
            ],
            "text/html": [
              "Finishing last run (ID:3pmqqmh1) before initializing another..."
            ]
          },
          "metadata": {}
        },
        {
          "output_type": "display_data",
          "data": {
            "text/plain": [
              "<IPython.core.display.HTML object>"
            ],
            "text/html": [
              "Waiting for W&B process to finish... <strong style=\"color:green\">(success).</strong>"
            ]
          },
          "metadata": {}
        },
        {
          "output_type": "display_data",
          "data": {
            "text/plain": [
              "VBox(children=(Label(value='0.001 MB of 0.001 MB uploaded (0.000 MB deduped)\\r'), FloatProgress(value=1.0, max…"
            ],
            "application/vnd.jupyter.widget-view+json": {
              "version_major": 2,
              "version_minor": 0,
              "model_id": "dd40d787ae434c5ebfd987c0d6202f98"
            }
          },
          "metadata": {}
        },
        {
          "output_type": "display_data",
          "data": {
            "text/plain": [
              "<IPython.core.display.HTML object>"
            ],
            "text/html": [
              "Synced <strong style=\"color:#cdcd00\">youthful-sea-1</strong>: <a href=\"https://wandb.ai/jharkhandejayant/Question5/runs/3pmqqmh1\" target=\"_blank\">https://wandb.ai/jharkhandejayant/Question5/runs/3pmqqmh1</a><br/>Synced 4 W&B file(s), 0 media file(s), 0 artifact file(s) and 0 other file(s)"
            ]
          },
          "metadata": {}
        },
        {
          "output_type": "display_data",
          "data": {
            "text/plain": [
              "<IPython.core.display.HTML object>"
            ],
            "text/html": [
              "Find logs at: <code>./wandb/run-20220515_160323-3pmqqmh1/logs</code>"
            ]
          },
          "metadata": {}
        },
        {
          "output_type": "display_data",
          "data": {
            "text/plain": [
              "<IPython.core.display.HTML object>"
            ],
            "text/html": [
              "Successfully finished last run (ID:3pmqqmh1). Initializing new run:<br/>"
            ]
          },
          "metadata": {}
        },
        {
          "output_type": "display_data",
          "data": {
            "text/plain": [
              "<IPython.core.display.HTML object>"
            ],
            "text/html": [
              "Tracking run with wandb version 0.12.16"
            ]
          },
          "metadata": {}
        },
        {
          "output_type": "display_data",
          "data": {
            "text/plain": [
              "<IPython.core.display.HTML object>"
            ],
            "text/html": [
              "Run data is saved locally in <code>/content/wandb/run-20220515_160532-954hdo0e</code>"
            ]
          },
          "metadata": {}
        },
        {
          "output_type": "display_data",
          "data": {
            "text/plain": [
              "<IPython.core.display.HTML object>"
            ],
            "text/html": [
              "Syncing run <strong><a href=\"https://wandb.ai/jharkhandejayant/Question5/runs/954hdo0e\" target=\"_blank\">silver-monkey-2</a></strong> to <a href=\"https://wandb.ai/jharkhandejayant/Question5\" target=\"_blank\">Weights & Biases</a> (<a href=\"https://wandb.me/run\" target=\"_blank\">docs</a>)<br/>"
            ]
          },
          "metadata": {}
        },
        {
          "output_type": "execute_result",
          "data": {
            "text/html": [
              "<button onClick=\"this.nextSibling.style.display='block';this.style.display='none';\">Display W&B run</button><iframe src=\"https://wandb.ai/jharkhandejayant/Question5/runs/954hdo0e?jupyter=true\" style=\"border:none;width:100%;height:420px;display:none;\"></iframe>"
            ],
            "text/plain": [
              "<wandb.sdk.wandb_run.Run at 0x7f8b3ad19a50>"
            ]
          },
          "metadata": {},
          "execution_count": 17
        }
      ]
    },
    {
      "cell_type": "code",
      "source": [
        "sweep_config={\n",
        "    'method': 'random',\n",
        "    'metric': {\n",
        "        'name': 'accuracy',\n",
        "        'goal': 'maximize'\n",
        "    },\n",
        "    'parameters':{\n",
        "        'epochs':{\n",
        "            'values':[3,5]\n",
        "        },\n",
        "        'embedding_size':{\n",
        "            'values':[8,12,16,20]\n",
        "        },\n",
        "        'cell':{\n",
        "            'values':[\"gru\",\"lstm\",\"rnn\"]\n",
        "        },\n",
        "        'dropouts':{\n",
        "            'values':[0,0.2,0.3]\n",
        "        },\n",
        "        'latent_dim':{\n",
        "            'values':[16,32,64,128]\n",
        "        },\n",
        "        'batch_size':{\n",
        "            'values':[32,64]\n",
        "        },\n",
        "        'optimizers':{\n",
        "            'values':[\"nadam\",\"adam\",\"sgd\",\"adadelta\"]\n",
        "        },\n",
        "       'initializer':{\n",
        "            'values':[\"orthogonal\",\"glorot_uniform\"]\n",
        "        }\n",
        "    }\n",
        "}"
      ],
      "metadata": {
        "id": "04KjuoQzcFWJ"
      },
      "execution_count": 18,
      "outputs": []
    },
    {
      "cell_type": "code",
      "source": [
        ""
      ],
      "metadata": {
        "id": "bDbKsM_OeG1a"
      },
      "execution_count": 19,
      "outputs": []
    },
    {
      "cell_type": "code",
      "source": [
        "sweep_id = wandb.sweep(sweep_config, project=\"Question5\", entity=\"jharkhandejayant\")\n"
      ],
      "metadata": {
        "colab": {
          "base_uri": "https://localhost:8080/"
        },
        "id": "ot3zRP9fcFTW",
        "outputId": "c6482df4-0def-45ad-81a5-0b3a7654c67c"
      },
      "execution_count": 20,
      "outputs": [
        {
          "output_type": "stream",
          "name": "stdout",
          "text": [
            "Create sweep with ID: 3qngqjc6\n",
            "Sweep URL: https://wandb.ai/jharkhandejayant/Question5/sweeps/3qngqjc6\n"
          ]
        }
      ]
    },
    {
      "cell_type": "code",
      "source": [
        "def train():\n",
        "    config_defaults={\n",
        "      'epochs':5,\n",
        "      'embedding_size':16,\n",
        "      'dropouts':0.3,\n",
        "      'optimizers':\"adam\",\n",
        "      'cell':\"lstm\",\n",
        "      'latent_dim':64,\n",
        "      'batch_size': 64,\n",
        "      'initializer':\"glorot_uniform\"\n",
        "       }\n",
        "    \n",
        "    wandb.init(config=config_defaults)\n",
        "    config=wandb.config\n",
        "    English_To_Hindi_translation=Attention(config.cell,config.embedding_size,config.latent_dim,config.optimizers,config.dropouts,config.batch_size,config.epochs,config.initializer)\n",
        "    English_To_Hindi_translation.create_data()\n",
        "    English_To_Hindi_translation.run()\n",
        "    val_acc=English_To_Hindi_translation.percentage_of_correct_cv_predictions()\n",
        "    wandb.log({'validation accuracy':val_acc})\n"
      ],
      "metadata": {
        "id": "J_9FaNStb7ZC"
      },
      "execution_count": 21,
      "outputs": []
    },
    {
      "cell_type": "code",
      "source": [
        "wandb.agent(sweep_id,train)\n"
      ],
      "metadata": {
        "colab": {
          "base_uri": "https://localhost:8080/",
          "height": 1000,
          "referenced_widgets": [
            "9762ff517342432c90c42661ee20741f",
            "c0c85e77ecd64fd38abfb7a5041a0a0e",
            "f74e1d518d6e41ae8a34176a0a37900e",
            "a169d4264e744402acbb189b6e6f6312",
            "29af2b5e3b2548dc8b0369d95c9ee2d1",
            "cb5245d365d14964ae8ca2307fd4f62c",
            "756aa799defd457492467e172b6e7a68",
            "051b2508da0e4f92ae308b5ec8896320",
            "94bae9dae2bc4b4d96e7edb1e525c234",
            "84f330524cf04b9fb83a64f4b440e02c",
            "5aaf150828d5446da6ddd28c49d9fbcc",
            "cf9144731a6e45328321d9c3092a89a6",
            "8ccf1dc867e14e06b53d9553108d7211",
            "e5abfe0c7b254382b41fe7d64da1e8a9",
            "5b55a8f69296481492c5b2ba609581e6",
            "f57e40c3c8784fd59777975e50bd913d",
            "06bfa3e764ea451ab89ead8e8f7581a3",
            "2b90a4abed8c45588dab707452e76cd8",
            "71b07a8f64fc4a708fbcc8976f7c0797",
            "63072aa7ae244f58833f7617cb742d5b",
            "e791d637bed841c3be1f32621f9eaee6",
            "42bf5993c2904ea0b6a4e7f6894e30fe",
            "96fe51eb82fa4c2cb0558334f437c220",
            "2f8a6c10a60044d2af1d455ed222eb4f",
            "4f389a51c5d84ad9a0c5d76bde20023a",
            "a277fc9abc434ac69ca611aa28893e90",
            "a831a9ad175a43ffbd8ef37eb5f3061c",
            "0c729c97b2be482791636523950ab8d2",
            "4b279b85228047308164057d30ffe04b",
            "2aae7651257f45bca658ae1de29ef9af",
            "68280b9bed844f0195fdfd1f0efd3938",
            "e0904b753b48444488261e0d04d02fc3",
            "f624502f22ec4eb8a14095d0194606c4",
            "386b5424e35248ec9dc8347ea41970de",
            "3e8d746242904adc8caaa297118bd2f1",
            "ba24d66ca5404a5d83e4577aeaf54f49",
            "e5d00c6b7cf94109883e08269f3a0ca2",
            "95858e3ad84b47a18e42f11be4a2e6a9",
            "5d8efc05bfd74df4aa4392862599a456",
            "125ff1faf83c423f9c51915f8698f619"
          ]
        },
        "id": "IRd0-4Aeb7W1",
        "outputId": "37074e7c-9dce-462f-bb6d-7c58337dc4b6"
      },
      "execution_count": 22,
      "outputs": [
        {
          "output_type": "stream",
          "name": "stderr",
          "text": [
            "\u001b[34m\u001b[1mwandb\u001b[0m: \u001b[33mWARNING\u001b[0m Calling wandb.login() after wandb.init() has no effect.\n",
            "\u001b[34m\u001b[1mwandb\u001b[0m: Agent Starting Run: t72nobgm with config:\n",
            "\u001b[34m\u001b[1mwandb\u001b[0m: \tbatch_size: 32\n",
            "\u001b[34m\u001b[1mwandb\u001b[0m: \tcell: gru\n",
            "\u001b[34m\u001b[1mwandb\u001b[0m: \tdropouts: 0\n",
            "\u001b[34m\u001b[1mwandb\u001b[0m: \tembedding_size: 8\n",
            "\u001b[34m\u001b[1mwandb\u001b[0m: \tepochs: 3\n",
            "\u001b[34m\u001b[1mwandb\u001b[0m: \tinitializer: orthogonal\n",
            "\u001b[34m\u001b[1mwandb\u001b[0m: \tlatent_dim: 64\n",
            "\u001b[34m\u001b[1mwandb\u001b[0m: \toptimizers: adadelta\n"
          ]
        },
        {
          "output_type": "display_data",
          "data": {
            "text/plain": [
              "<IPython.core.display.HTML object>"
            ],
            "text/html": [
              "Tracking run with wandb version 0.12.16"
            ]
          },
          "metadata": {}
        },
        {
          "output_type": "display_data",
          "data": {
            "text/plain": [
              "<IPython.core.display.HTML object>"
            ],
            "text/html": [
              "Run data is saved locally in <code>/content/wandb/run-20220515_161150-t72nobgm</code>"
            ]
          },
          "metadata": {}
        },
        {
          "output_type": "display_data",
          "data": {
            "text/plain": [
              "<IPython.core.display.HTML object>"
            ],
            "text/html": [
              "Syncing run <strong><a href=\"https://wandb.ai/jharkhandejayant/Question5/runs/t72nobgm\" target=\"_blank\">fearless-sweep-1</a></strong> to <a href=\"https://wandb.ai/jharkhandejayant/Question5\" target=\"_blank\">Weights & Biases</a> (<a href=\"https://wandb.me/run\" target=\"_blank\">docs</a>)<br/>Sweep page:  <a href=\"https://wandb.ai/jharkhandejayant/Question5/sweeps/3qngqjc6\" target=\"_blank\">https://wandb.ai/jharkhandejayant/Question5/sweeps/3qngqjc6</a>"
            ]
          },
          "metadata": {}
        },
        {
          "output_type": "stream",
          "name": "stderr",
          "text": [
            "/usr/local/lib/python3.7/dist-packages/ipykernel_launcher.py:77: FutureWarning: The error_bad_lines argument has been deprecated and will be removed in a future version.\n",
            "\n",
            "\n",
            "/usr/local/lib/python3.7/dist-packages/ipykernel_launcher.py:89: FutureWarning: The error_bad_lines argument has been deprecated and will be removed in a future version.\n",
            "\n",
            "\n",
            "/usr/local/lib/python3.7/dist-packages/ipykernel_launcher.py:90: FutureWarning: The error_bad_lines argument has been deprecated and will be removed in a future version.\n",
            "\n",
            "\n",
            "/usr/local/lib/python3.7/dist-packages/ipykernel_launcher.py:91: FutureWarning: The error_bad_lines argument has been deprecated and will be removed in a future version.\n",
            "\n",
            "\n"
          ]
        },
        {
          "output_type": "stream",
          "name": "stdout",
          "text": [
            "Epoch 1 Loss 1.4440   \n",
            "Epoch 2 Loss 1.4415   \n",
            "Epoch 3 Loss 1.4381   \n"
          ]
        },
        {
          "output_type": "display_data",
          "data": {
            "text/plain": [
              "<IPython.core.display.HTML object>"
            ],
            "text/html": [
              "Waiting for W&B process to finish... <strong style=\"color:green\">(success).</strong>"
            ]
          },
          "metadata": {}
        },
        {
          "output_type": "display_data",
          "data": {
            "text/plain": [
              "VBox(children=(Label(value='0.001 MB of 0.001 MB uploaded (0.000 MB deduped)\\r'), FloatProgress(value=1.0, max…"
            ],
            "application/vnd.jupyter.widget-view+json": {
              "version_major": 2,
              "version_minor": 0,
              "model_id": "9762ff517342432c90c42661ee20741f"
            }
          },
          "metadata": {}
        },
        {
          "output_type": "display_data",
          "data": {
            "text/plain": [
              "<IPython.core.display.HTML object>"
            ],
            "text/html": [
              "<style>\n",
              "    table.wandb td:nth-child(1) { padding: 0 10px; text-align: left ; width: auto;} td:nth-child(2) {text-align: left ; width: 100%}\n",
              "    .wandb-row { display: flex; flex-direction: row; flex-wrap: wrap; justify-content: flex-start; width: 100% }\n",
              "    .wandb-col { display: flex; flex-direction: column; flex-basis: 100%; flex: 1; padding: 10px; }\n",
              "    </style>\n",
              "<div class=\"wandb-row\"><div class=\"wandb-col\"><h3>Run history:</h3><br/><table class=\"wandb\"><tr><td>validation accuracy</td><td>▁</td></tr></table><br/></div><div class=\"wandb-col\"><h3>Run summary:</h3><br/><table class=\"wandb\"><tr><td>validation accuracy</td><td>0.0</td></tr></table><br/></div></div>"
            ]
          },
          "metadata": {}
        },
        {
          "output_type": "display_data",
          "data": {
            "text/plain": [
              "<IPython.core.display.HTML object>"
            ],
            "text/html": [
              "Synced <strong style=\"color:#cdcd00\">fearless-sweep-1</strong>: <a href=\"https://wandb.ai/jharkhandejayant/Question5/runs/t72nobgm\" target=\"_blank\">https://wandb.ai/jharkhandejayant/Question5/runs/t72nobgm</a><br/>Synced 5 W&B file(s), 0 media file(s), 0 artifact file(s) and 0 other file(s)"
            ]
          },
          "metadata": {}
        },
        {
          "output_type": "display_data",
          "data": {
            "text/plain": [
              "<IPython.core.display.HTML object>"
            ],
            "text/html": [
              "Find logs at: <code>./wandb/run-20220515_161150-t72nobgm/logs</code>"
            ]
          },
          "metadata": {}
        },
        {
          "output_type": "stream",
          "name": "stderr",
          "text": [
            "\u001b[34m\u001b[1mwandb\u001b[0m: Agent Starting Run: cr2quijt with config:\n",
            "\u001b[34m\u001b[1mwandb\u001b[0m: \tbatch_size: 32\n",
            "\u001b[34m\u001b[1mwandb\u001b[0m: \tcell: lstm\n",
            "\u001b[34m\u001b[1mwandb\u001b[0m: \tdropouts: 0\n",
            "\u001b[34m\u001b[1mwandb\u001b[0m: \tembedding_size: 16\n",
            "\u001b[34m\u001b[1mwandb\u001b[0m: \tepochs: 5\n",
            "\u001b[34m\u001b[1mwandb\u001b[0m: \tinitializer: glorot_uniform\n",
            "\u001b[34m\u001b[1mwandb\u001b[0m: \tlatent_dim: 128\n",
            "\u001b[34m\u001b[1mwandb\u001b[0m: \toptimizers: adam\n"
          ]
        },
        {
          "output_type": "display_data",
          "data": {
            "text/plain": [
              "<IPython.core.display.HTML object>"
            ],
            "text/html": [
              "Tracking run with wandb version 0.12.16"
            ]
          },
          "metadata": {}
        },
        {
          "output_type": "display_data",
          "data": {
            "text/plain": [
              "<IPython.core.display.HTML object>"
            ],
            "text/html": [
              "Run data is saved locally in <code>/content/wandb/run-20220515_161552-cr2quijt</code>"
            ]
          },
          "metadata": {}
        },
        {
          "output_type": "display_data",
          "data": {
            "text/plain": [
              "<IPython.core.display.HTML object>"
            ],
            "text/html": [
              "Syncing run <strong><a href=\"https://wandb.ai/jharkhandejayant/Question5/runs/cr2quijt\" target=\"_blank\">super-sweep-2</a></strong> to <a href=\"https://wandb.ai/jharkhandejayant/Question5\" target=\"_blank\">Weights & Biases</a> (<a href=\"https://wandb.me/run\" target=\"_blank\">docs</a>)<br/>Sweep page:  <a href=\"https://wandb.ai/jharkhandejayant/Question5/sweeps/3qngqjc6\" target=\"_blank\">https://wandb.ai/jharkhandejayant/Question5/sweeps/3qngqjc6</a>"
            ]
          },
          "metadata": {}
        },
        {
          "output_type": "stream",
          "name": "stdout",
          "text": [
            "Epoch 1 Loss 0.9588   \n",
            "Epoch 2 Loss 0.7183   \n",
            "Epoch 3 Loss 0.4190   \n",
            "Epoch 4 Loss 0.2848   \n",
            "Epoch 5 Loss 0.2300   \n"
          ]
        },
        {
          "output_type": "display_data",
          "data": {
            "text/plain": [
              "<IPython.core.display.HTML object>"
            ],
            "text/html": [
              "Waiting for W&B process to finish... <strong style=\"color:green\">(success).</strong>"
            ]
          },
          "metadata": {}
        },
        {
          "output_type": "display_data",
          "data": {
            "text/plain": [
              "VBox(children=(Label(value='0.001 MB of 0.001 MB uploaded (0.000 MB deduped)\\r'), FloatProgress(value=1.0, max…"
            ],
            "application/vnd.jupyter.widget-view+json": {
              "version_major": 2,
              "version_minor": 0,
              "model_id": "94bae9dae2bc4b4d96e7edb1e525c234"
            }
          },
          "metadata": {}
        },
        {
          "output_type": "display_data",
          "data": {
            "text/plain": [
              "<IPython.core.display.HTML object>"
            ],
            "text/html": [
              "<style>\n",
              "    table.wandb td:nth-child(1) { padding: 0 10px; text-align: left ; width: auto;} td:nth-child(2) {text-align: left ; width: 100%}\n",
              "    .wandb-row { display: flex; flex-direction: row; flex-wrap: wrap; justify-content: flex-start; width: 100% }\n",
              "    .wandb-col { display: flex; flex-direction: column; flex-basis: 100%; flex: 1; padding: 10px; }\n",
              "    </style>\n",
              "<div class=\"wandb-row\"><div class=\"wandb-col\"><h3>Run history:</h3><br/><table class=\"wandb\"><tr><td>validation accuracy</td><td>▁</td></tr></table><br/></div><div class=\"wandb-col\"><h3>Run summary:</h3><br/><table class=\"wandb\"><tr><td>validation accuracy</td><td>0.27994</td></tr></table><br/></div></div>"
            ]
          },
          "metadata": {}
        },
        {
          "output_type": "display_data",
          "data": {
            "text/plain": [
              "<IPython.core.display.HTML object>"
            ],
            "text/html": [
              "Synced <strong style=\"color:#cdcd00\">super-sweep-2</strong>: <a href=\"https://wandb.ai/jharkhandejayant/Question5/runs/cr2quijt\" target=\"_blank\">https://wandb.ai/jharkhandejayant/Question5/runs/cr2quijt</a><br/>Synced 5 W&B file(s), 0 media file(s), 0 artifact file(s) and 0 other file(s)"
            ]
          },
          "metadata": {}
        },
        {
          "output_type": "display_data",
          "data": {
            "text/plain": [
              "<IPython.core.display.HTML object>"
            ],
            "text/html": [
              "Find logs at: <code>./wandb/run-20220515_161552-cr2quijt/logs</code>"
            ]
          },
          "metadata": {}
        },
        {
          "output_type": "stream",
          "name": "stderr",
          "text": [
            "\u001b[34m\u001b[1mwandb\u001b[0m: Agent Starting Run: 3momfzjf with config:\n",
            "\u001b[34m\u001b[1mwandb\u001b[0m: \tbatch_size: 32\n",
            "\u001b[34m\u001b[1mwandb\u001b[0m: \tcell: rnn\n",
            "\u001b[34m\u001b[1mwandb\u001b[0m: \tdropouts: 0\n",
            "\u001b[34m\u001b[1mwandb\u001b[0m: \tembedding_size: 12\n",
            "\u001b[34m\u001b[1mwandb\u001b[0m: \tepochs: 5\n",
            "\u001b[34m\u001b[1mwandb\u001b[0m: \tinitializer: orthogonal\n",
            "\u001b[34m\u001b[1mwandb\u001b[0m: \tlatent_dim: 64\n",
            "\u001b[34m\u001b[1mwandb\u001b[0m: \toptimizers: nadam\n"
          ]
        },
        {
          "output_type": "display_data",
          "data": {
            "text/plain": [
              "<IPython.core.display.HTML object>"
            ],
            "text/html": [
              "Tracking run with wandb version 0.12.16"
            ]
          },
          "metadata": {}
        },
        {
          "output_type": "display_data",
          "data": {
            "text/plain": [
              "<IPython.core.display.HTML object>"
            ],
            "text/html": [
              "Run data is saved locally in <code>/content/wandb/run-20220515_162622-3momfzjf</code>"
            ]
          },
          "metadata": {}
        },
        {
          "output_type": "display_data",
          "data": {
            "text/plain": [
              "<IPython.core.display.HTML object>"
            ],
            "text/html": [
              "Syncing run <strong><a href=\"https://wandb.ai/jharkhandejayant/Question5/runs/3momfzjf\" target=\"_blank\">distinctive-sweep-3</a></strong> to <a href=\"https://wandb.ai/jharkhandejayant/Question5\" target=\"_blank\">Weights & Biases</a> (<a href=\"https://wandb.me/run\" target=\"_blank\">docs</a>)<br/>Sweep page:  <a href=\"https://wandb.ai/jharkhandejayant/Question5/sweeps/3qngqjc6\" target=\"_blank\">https://wandb.ai/jharkhandejayant/Question5/sweeps/3qngqjc6</a>"
            ]
          },
          "metadata": {}
        },
        {
          "output_type": "stream",
          "name": "stdout",
          "text": [
            "Epoch 1 Loss 0.8039   \n",
            "Epoch 2 Loss 0.4716   \n",
            "Epoch 3 Loss 0.3304   \n",
            "Epoch 4 Loss 0.2847   \n",
            "Epoch 5 Loss 0.2600   \n"
          ]
        },
        {
          "output_type": "display_data",
          "data": {
            "text/plain": [
              "<IPython.core.display.HTML object>"
            ],
            "text/html": [
              "Waiting for W&B process to finish... <strong style=\"color:green\">(success).</strong>"
            ]
          },
          "metadata": {}
        },
        {
          "output_type": "display_data",
          "data": {
            "text/plain": [
              "VBox(children=(Label(value='0.001 MB of 0.001 MB uploaded (0.000 MB deduped)\\r'), FloatProgress(value=1.0, max…"
            ],
            "application/vnd.jupyter.widget-view+json": {
              "version_major": 2,
              "version_minor": 0,
              "model_id": "06bfa3e764ea451ab89ead8e8f7581a3"
            }
          },
          "metadata": {}
        },
        {
          "output_type": "display_data",
          "data": {
            "text/plain": [
              "<IPython.core.display.HTML object>"
            ],
            "text/html": [
              "<style>\n",
              "    table.wandb td:nth-child(1) { padding: 0 10px; text-align: left ; width: auto;} td:nth-child(2) {text-align: left ; width: 100%}\n",
              "    .wandb-row { display: flex; flex-direction: row; flex-wrap: wrap; justify-content: flex-start; width: 100% }\n",
              "    .wandb-col { display: flex; flex-direction: column; flex-basis: 100%; flex: 1; padding: 10px; }\n",
              "    </style>\n",
              "<div class=\"wandb-row\"><div class=\"wandb-col\"><h3>Run history:</h3><br/><table class=\"wandb\"><tr><td>validation accuracy</td><td>▁</td></tr></table><br/></div><div class=\"wandb-col\"><h3>Run summary:</h3><br/><table class=\"wandb\"><tr><td>validation accuracy</td><td>0.23313</td></tr></table><br/></div></div>"
            ]
          },
          "metadata": {}
        },
        {
          "output_type": "display_data",
          "data": {
            "text/plain": [
              "<IPython.core.display.HTML object>"
            ],
            "text/html": [
              "Synced <strong style=\"color:#cdcd00\">distinctive-sweep-3</strong>: <a href=\"https://wandb.ai/jharkhandejayant/Question5/runs/3momfzjf\" target=\"_blank\">https://wandb.ai/jharkhandejayant/Question5/runs/3momfzjf</a><br/>Synced 5 W&B file(s), 0 media file(s), 0 artifact file(s) and 0 other file(s)"
            ]
          },
          "metadata": {}
        },
        {
          "output_type": "display_data",
          "data": {
            "text/plain": [
              "<IPython.core.display.HTML object>"
            ],
            "text/html": [
              "Find logs at: <code>./wandb/run-20220515_162622-3momfzjf/logs</code>"
            ]
          },
          "metadata": {}
        },
        {
          "output_type": "stream",
          "name": "stderr",
          "text": [
            "\u001b[34m\u001b[1mwandb\u001b[0m: Agent Starting Run: 0crwpmci with config:\n",
            "\u001b[34m\u001b[1mwandb\u001b[0m: \tbatch_size: 32\n",
            "\u001b[34m\u001b[1mwandb\u001b[0m: \tcell: gru\n",
            "\u001b[34m\u001b[1mwandb\u001b[0m: \tdropouts: 0.3\n",
            "\u001b[34m\u001b[1mwandb\u001b[0m: \tembedding_size: 12\n",
            "\u001b[34m\u001b[1mwandb\u001b[0m: \tepochs: 3\n",
            "\u001b[34m\u001b[1mwandb\u001b[0m: \tinitializer: glorot_uniform\n",
            "\u001b[34m\u001b[1mwandb\u001b[0m: \tlatent_dim: 128\n",
            "\u001b[34m\u001b[1mwandb\u001b[0m: \toptimizers: sgd\n"
          ]
        },
        {
          "output_type": "display_data",
          "data": {
            "text/plain": [
              "<IPython.core.display.HTML object>"
            ],
            "text/html": [
              "Tracking run with wandb version 0.12.16"
            ]
          },
          "metadata": {}
        },
        {
          "output_type": "display_data",
          "data": {
            "text/plain": [
              "<IPython.core.display.HTML object>"
            ],
            "text/html": [
              "Run data is saved locally in <code>/content/wandb/run-20220515_163925-0crwpmci</code>"
            ]
          },
          "metadata": {}
        },
        {
          "output_type": "display_data",
          "data": {
            "text/plain": [
              "<IPython.core.display.HTML object>"
            ],
            "text/html": [
              "Syncing run <strong><a href=\"https://wandb.ai/jharkhandejayant/Question5/runs/0crwpmci\" target=\"_blank\">denim-sweep-4</a></strong> to <a href=\"https://wandb.ai/jharkhandejayant/Question5\" target=\"_blank\">Weights & Biases</a> (<a href=\"https://wandb.me/run\" target=\"_blank\">docs</a>)<br/>Sweep page:  <a href=\"https://wandb.ai/jharkhandejayant/Question5/sweeps/3qngqjc6\" target=\"_blank\">https://wandb.ai/jharkhandejayant/Question5/sweeps/3qngqjc6</a>"
            ]
          },
          "metadata": {}
        },
        {
          "output_type": "stream",
          "name": "stdout",
          "text": [
            "Epoch 1 Loss 1.2020   \n",
            "Epoch 2 Loss 1.1117   \n",
            "Epoch 3 Loss 1.0147   \n"
          ]
        },
        {
          "output_type": "display_data",
          "data": {
            "text/plain": [
              "<IPython.core.display.HTML object>"
            ],
            "text/html": [
              "Waiting for W&B process to finish... <strong style=\"color:green\">(success).</strong>"
            ]
          },
          "metadata": {}
        },
        {
          "output_type": "display_data",
          "data": {
            "text/plain": [
              "VBox(children=(Label(value='0.001 MB of 0.001 MB uploaded (0.000 MB deduped)\\r'), FloatProgress(value=1.0, max…"
            ],
            "application/vnd.jupyter.widget-view+json": {
              "version_major": 2,
              "version_minor": 0,
              "model_id": "4f389a51c5d84ad9a0c5d76bde20023a"
            }
          },
          "metadata": {}
        },
        {
          "output_type": "display_data",
          "data": {
            "text/plain": [
              "<IPython.core.display.HTML object>"
            ],
            "text/html": [
              "<style>\n",
              "    table.wandb td:nth-child(1) { padding: 0 10px; text-align: left ; width: auto;} td:nth-child(2) {text-align: left ; width: 100%}\n",
              "    .wandb-row { display: flex; flex-direction: row; flex-wrap: wrap; justify-content: flex-start; width: 100% }\n",
              "    .wandb-col { display: flex; flex-direction: column; flex-basis: 100%; flex: 1; padding: 10px; }\n",
              "    </style>\n",
              "<div class=\"wandb-row\"><div class=\"wandb-col\"><h3>Run history:</h3><br/><table class=\"wandb\"><tr><td>validation accuracy</td><td>▁</td></tr></table><br/></div><div class=\"wandb-col\"><h3>Run summary:</h3><br/><table class=\"wandb\"><tr><td>validation accuracy</td><td>0.0</td></tr></table><br/></div></div>"
            ]
          },
          "metadata": {}
        },
        {
          "output_type": "display_data",
          "data": {
            "text/plain": [
              "<IPython.core.display.HTML object>"
            ],
            "text/html": [
              "Synced <strong style=\"color:#cdcd00\">denim-sweep-4</strong>: <a href=\"https://wandb.ai/jharkhandejayant/Question5/runs/0crwpmci\" target=\"_blank\">https://wandb.ai/jharkhandejayant/Question5/runs/0crwpmci</a><br/>Synced 5 W&B file(s), 0 media file(s), 0 artifact file(s) and 0 other file(s)"
            ]
          },
          "metadata": {}
        },
        {
          "output_type": "display_data",
          "data": {
            "text/plain": [
              "<IPython.core.display.HTML object>"
            ],
            "text/html": [
              "Find logs at: <code>./wandb/run-20220515_163925-0crwpmci/logs</code>"
            ]
          },
          "metadata": {}
        },
        {
          "output_type": "stream",
          "name": "stderr",
          "text": [
            "\u001b[34m\u001b[1mwandb\u001b[0m: Agent Starting Run: 3eku3hbi with config:\n",
            "\u001b[34m\u001b[1mwandb\u001b[0m: \tbatch_size: 64\n",
            "\u001b[34m\u001b[1mwandb\u001b[0m: \tcell: rnn\n",
            "\u001b[34m\u001b[1mwandb\u001b[0m: \tdropouts: 0\n",
            "\u001b[34m\u001b[1mwandb\u001b[0m: \tembedding_size: 20\n",
            "\u001b[34m\u001b[1mwandb\u001b[0m: \tepochs: 3\n",
            "\u001b[34m\u001b[1mwandb\u001b[0m: \tinitializer: glorot_uniform\n",
            "\u001b[34m\u001b[1mwandb\u001b[0m: \tlatent_dim: 32\n",
            "\u001b[34m\u001b[1mwandb\u001b[0m: \toptimizers: sgd\n"
          ]
        },
        {
          "output_type": "display_data",
          "data": {
            "text/plain": [
              "<IPython.core.display.HTML object>"
            ],
            "text/html": [
              "Tracking run with wandb version 0.12.16"
            ]
          },
          "metadata": {}
        },
        {
          "output_type": "display_data",
          "data": {
            "text/plain": [
              "<IPython.core.display.HTML object>"
            ],
            "text/html": [
              "Run data is saved locally in <code>/content/wandb/run-20220515_164542-3eku3hbi</code>"
            ]
          },
          "metadata": {}
        },
        {
          "output_type": "display_data",
          "data": {
            "text/plain": [
              "<IPython.core.display.HTML object>"
            ],
            "text/html": [
              "Syncing run <strong><a href=\"https://wandb.ai/jharkhandejayant/Question5/runs/3eku3hbi\" target=\"_blank\">quiet-sweep-5</a></strong> to <a href=\"https://wandb.ai/jharkhandejayant/Question5\" target=\"_blank\">Weights & Biases</a> (<a href=\"https://wandb.me/run\" target=\"_blank\">docs</a>)<br/>Sweep page:  <a href=\"https://wandb.ai/jharkhandejayant/Question5/sweeps/3qngqjc6\" target=\"_blank\">https://wandb.ai/jharkhandejayant/Question5/sweeps/3qngqjc6</a>"
            ]
          },
          "metadata": {}
        },
        {
          "output_type": "stream",
          "name": "stdout",
          "text": [
            "Epoch 1 Loss 1.1955   \n",
            "Epoch 2 Loss 1.1201   \n",
            "Epoch 3 Loss 1.0335   \n"
          ]
        },
        {
          "output_type": "display_data",
          "data": {
            "text/plain": [
              "<IPython.core.display.HTML object>"
            ],
            "text/html": [
              "Waiting for W&B process to finish... <strong style=\"color:green\">(success).</strong>"
            ]
          },
          "metadata": {}
        },
        {
          "output_type": "display_data",
          "data": {
            "text/plain": [
              "VBox(children=(Label(value='0.001 MB of 0.001 MB uploaded (0.000 MB deduped)\\r'), FloatProgress(value=1.0, max…"
            ],
            "application/vnd.jupyter.widget-view+json": {
              "version_major": 2,
              "version_minor": 0,
              "model_id": "f624502f22ec4eb8a14095d0194606c4"
            }
          },
          "metadata": {}
        },
        {
          "output_type": "display_data",
          "data": {
            "text/plain": [
              "<IPython.core.display.HTML object>"
            ],
            "text/html": [
              "<style>\n",
              "    table.wandb td:nth-child(1) { padding: 0 10px; text-align: left ; width: auto;} td:nth-child(2) {text-align: left ; width: 100%}\n",
              "    .wandb-row { display: flex; flex-direction: row; flex-wrap: wrap; justify-content: flex-start; width: 100% }\n",
              "    .wandb-col { display: flex; flex-direction: column; flex-basis: 100%; flex: 1; padding: 10px; }\n",
              "    </style>\n",
              "<div class=\"wandb-row\"><div class=\"wandb-col\"><h3>Run history:</h3><br/><table class=\"wandb\"><tr><td>validation accuracy</td><td>▁</td></tr></table><br/></div><div class=\"wandb-col\"><h3>Run summary:</h3><br/><table class=\"wandb\"><tr><td>validation accuracy</td><td>0.0</td></tr></table><br/></div></div>"
            ]
          },
          "metadata": {}
        },
        {
          "output_type": "display_data",
          "data": {
            "text/plain": [
              "<IPython.core.display.HTML object>"
            ],
            "text/html": [
              "Synced <strong style=\"color:#cdcd00\">quiet-sweep-5</strong>: <a href=\"https://wandb.ai/jharkhandejayant/Question5/runs/3eku3hbi\" target=\"_blank\">https://wandb.ai/jharkhandejayant/Question5/runs/3eku3hbi</a><br/>Synced 5 W&B file(s), 0 media file(s), 0 artifact file(s) and 0 other file(s)"
            ]
          },
          "metadata": {}
        },
        {
          "output_type": "display_data",
          "data": {
            "text/plain": [
              "<IPython.core.display.HTML object>"
            ],
            "text/html": [
              "Find logs at: <code>./wandb/run-20220515_164542-3eku3hbi/logs</code>"
            ]
          },
          "metadata": {}
        },
        {
          "output_type": "stream",
          "name": "stderr",
          "text": [
            "\u001b[34m\u001b[1mwandb\u001b[0m: Sweep Agent: Waiting for job.\n",
            "\u001b[34m\u001b[1mwandb\u001b[0m: Job received.\n",
            "\u001b[34m\u001b[1mwandb\u001b[0m: Agent Starting Run: 3yoxesef with config:\n",
            "\u001b[34m\u001b[1mwandb\u001b[0m: \tbatch_size: 64\n",
            "\u001b[34m\u001b[1mwandb\u001b[0m: \tcell: lstm\n",
            "\u001b[34m\u001b[1mwandb\u001b[0m: \tdropouts: 0.3\n",
            "\u001b[34m\u001b[1mwandb\u001b[0m: \tembedding_size: 16\n",
            "\u001b[34m\u001b[1mwandb\u001b[0m: \tepochs: 3\n",
            "\u001b[34m\u001b[1mwandb\u001b[0m: \tinitializer: glorot_uniform\n",
            "\u001b[34m\u001b[1mwandb\u001b[0m: \tlatent_dim: 64\n",
            "\u001b[34m\u001b[1mwandb\u001b[0m: \toptimizers: adadelta\n"
          ]
        },
        {
          "output_type": "display_data",
          "data": {
            "text/plain": [
              "<IPython.core.display.HTML object>"
            ],
            "text/html": [
              "Tracking run with wandb version 0.12.16"
            ]
          },
          "metadata": {}
        },
        {
          "output_type": "display_data",
          "data": {
            "text/plain": [
              "<IPython.core.display.HTML object>"
            ],
            "text/html": [
              "Run data is saved locally in <code>/content/wandb/run-20220515_165337-3yoxesef</code>"
            ]
          },
          "metadata": {}
        },
        {
          "output_type": "display_data",
          "data": {
            "text/plain": [
              "<IPython.core.display.HTML object>"
            ],
            "text/html": [
              "Syncing run <strong><a href=\"https://wandb.ai/jharkhandejayant/Question5/runs/3yoxesef\" target=\"_blank\">unique-sweep-6</a></strong> to <a href=\"https://wandb.ai/jharkhandejayant/Question5\" target=\"_blank\">Weights & Biases</a> (<a href=\"https://wandb.me/run\" target=\"_blank\">docs</a>)<br/>Sweep page:  <a href=\"https://wandb.ai/jharkhandejayant/Question5/sweeps/3qngqjc6\" target=\"_blank\">https://wandb.ai/jharkhandejayant/Question5/sweeps/3qngqjc6</a>"
            ]
          },
          "metadata": {}
        },
        {
          "output_type": "stream",
          "name": "stdout",
          "text": [
            "Epoch 1 Loss 1.4446   \n"
          ]
        },
        {
          "output_type": "stream",
          "name": "stderr",
          "text": [
            "\u001b[34m\u001b[1mwandb\u001b[0m: Ctrl + C detected. Stopping sweep.\n"
          ]
        }
      ]
    },
    {
      "cell_type": "code",
      "source": [
        ""
      ],
      "metadata": {
        "id": "7RsWMCMvb7UT"
      },
      "execution_count": null,
      "outputs": []
    },
    {
      "cell_type": "code",
      "source": [
        ""
      ],
      "metadata": {
        "id": "hWmAAZ-Jb7QG"
      },
      "execution_count": null,
      "outputs": []
    }
  ]
}